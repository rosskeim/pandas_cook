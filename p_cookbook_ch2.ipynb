{
 "cells": [
  {
   "cell_type": "code",
   "execution_count": 3,
   "id": "interior-blank",
   "metadata": {},
   "outputs": [],
   "source": [
    "import pandas as pd"
   ]
  },
  {
   "cell_type": "code",
   "execution_count": 4,
   "id": "overhead-oklahoma",
   "metadata": {},
   "outputs": [],
   "source": [
    "import numpy as np"
   ]
  },
  {
   "cell_type": "code",
   "execution_count": 5,
   "id": "decent-monitoring",
   "metadata": {},
   "outputs": [],
   "source": [
    "movies = pd.read_csv(\"movie.csv\")"
   ]
  },
  {
   "cell_type": "code",
   "execution_count": 6,
   "id": "enormous-album",
   "metadata": {},
   "outputs": [],
   "source": [
    "movie_actor_director = movies[\n",
    "    [\n",
    "        \"actor_1_name\",\n",
    "        \"actor_2_name\",\n",
    "        \"actor_3_name\",\n",
    "        \"director_name\"\n",
    "    ]\n",
    "]"
   ]
  },
  {
   "cell_type": "code",
   "execution_count": 7,
   "id": "uniform-amplifier",
   "metadata": {},
   "outputs": [
    {
     "data": {
      "text/html": [
       "<div>\n",
       "<style scoped>\n",
       "    .dataframe tbody tr th:only-of-type {\n",
       "        vertical-align: middle;\n",
       "    }\n",
       "\n",
       "    .dataframe tbody tr th {\n",
       "        vertical-align: top;\n",
       "    }\n",
       "\n",
       "    .dataframe thead th {\n",
       "        text-align: right;\n",
       "    }\n",
       "</style>\n",
       "<table border=\"1\" class=\"dataframe\">\n",
       "  <thead>\n",
       "    <tr style=\"text-align: right;\">\n",
       "      <th></th>\n",
       "      <th>actor_1_name</th>\n",
       "      <th>actor_2_name</th>\n",
       "      <th>actor_3_name</th>\n",
       "      <th>director_name</th>\n",
       "    </tr>\n",
       "  </thead>\n",
       "  <tbody>\n",
       "    <tr>\n",
       "      <th>0</th>\n",
       "      <td>CCH Pounder</td>\n",
       "      <td>Joel David Moore</td>\n",
       "      <td>Wes Studi</td>\n",
       "      <td>James Cameron</td>\n",
       "    </tr>\n",
       "    <tr>\n",
       "      <th>1</th>\n",
       "      <td>Johnny Depp</td>\n",
       "      <td>Orlando Bloom</td>\n",
       "      <td>Jack Davenport</td>\n",
       "      <td>Gore Verbinski</td>\n",
       "    </tr>\n",
       "    <tr>\n",
       "      <th>2</th>\n",
       "      <td>Christoph Waltz</td>\n",
       "      <td>Rory Kinnear</td>\n",
       "      <td>Stephanie Sigman</td>\n",
       "      <td>Sam Mendes</td>\n",
       "    </tr>\n",
       "    <tr>\n",
       "      <th>3</th>\n",
       "      <td>Tom Hardy</td>\n",
       "      <td>Christian Bale</td>\n",
       "      <td>Joseph Gordon-Levitt</td>\n",
       "      <td>Christopher Nolan</td>\n",
       "    </tr>\n",
       "    <tr>\n",
       "      <th>4</th>\n",
       "      <td>Doug Walker</td>\n",
       "      <td>Rob Walker</td>\n",
       "      <td>NaN</td>\n",
       "      <td>Doug Walker</td>\n",
       "    </tr>\n",
       "  </tbody>\n",
       "</table>\n",
       "</div>"
      ],
      "text/plain": [
       "      actor_1_name      actor_2_name          actor_3_name      director_name\n",
       "0      CCH Pounder  Joel David Moore             Wes Studi      James Cameron\n",
       "1      Johnny Depp     Orlando Bloom        Jack Davenport     Gore Verbinski\n",
       "2  Christoph Waltz      Rory Kinnear      Stephanie Sigman         Sam Mendes\n",
       "3        Tom Hardy    Christian Bale  Joseph Gordon-Levitt  Christopher Nolan\n",
       "4      Doug Walker        Rob Walker                   NaN        Doug Walker"
      ]
     },
     "execution_count": 7,
     "metadata": {},
     "output_type": "execute_result"
    }
   ],
   "source": [
    "movie_actor_director.head()"
   ]
  },
  {
   "cell_type": "code",
   "execution_count": 8,
   "id": "functional-seller",
   "metadata": {},
   "outputs": [
    {
     "data": {
      "text/plain": [
       "pandas.core.frame.DataFrame"
      ]
     },
     "execution_count": 8,
     "metadata": {},
     "output_type": "execute_result"
    }
   ],
   "source": [
    "type(movies[[\"director_name\"]])"
   ]
  },
  {
   "cell_type": "code",
   "execution_count": 9,
   "id": "inclusive-start",
   "metadata": {},
   "outputs": [
    {
     "data": {
      "text/plain": [
       "pandas.core.series.Series"
      ]
     },
     "execution_count": 9,
     "metadata": {},
     "output_type": "execute_result"
    }
   ],
   "source": [
    "type(movies[\"director_name\"])"
   ]
  },
  {
   "cell_type": "code",
   "execution_count": 10,
   "id": "essential-europe",
   "metadata": {},
   "outputs": [
    {
     "data": {
      "text/plain": [
       "pandas.core.frame.DataFrame"
      ]
     },
     "execution_count": 10,
     "metadata": {},
     "output_type": "execute_result"
    }
   ],
   "source": [
    "type(movies.loc[:, [\"director_name\"]])"
   ]
  },
  {
   "cell_type": "code",
   "execution_count": 11,
   "id": "intelligent-instrument",
   "metadata": {},
   "outputs": [
    {
     "data": {
      "text/plain": [
       "pandas.core.series.Series"
      ]
     },
     "execution_count": 11,
     "metadata": {},
     "output_type": "execute_result"
    }
   ],
   "source": [
    "type(movies.loc[:, \"director_name\"])"
   ]
  },
  {
   "cell_type": "code",
   "execution_count": 12,
   "id": "fewer-farmer",
   "metadata": {},
   "outputs": [],
   "source": [
    "cols = [\n",
    "    \"actor_1_name\",\n",
    "    \"actor_2_name\",\n",
    "    \"actor_3_name\",\n",
    "    \"director_name\"\n",
    "]"
   ]
  },
  {
   "cell_type": "code",
   "execution_count": 13,
   "id": "voluntary-effect",
   "metadata": {},
   "outputs": [],
   "source": [
    "movie_actor_director = movies[cols]"
   ]
  },
  {
   "cell_type": "code",
   "execution_count": 14,
   "id": "sound-vinyl",
   "metadata": {},
   "outputs": [
    {
     "data": {
      "text/html": [
       "<div>\n",
       "<style scoped>\n",
       "    .dataframe tbody tr th:only-of-type {\n",
       "        vertical-align: middle;\n",
       "    }\n",
       "\n",
       "    .dataframe tbody tr th {\n",
       "        vertical-align: top;\n",
       "    }\n",
       "\n",
       "    .dataframe thead th {\n",
       "        text-align: right;\n",
       "    }\n",
       "</style>\n",
       "<table border=\"1\" class=\"dataframe\">\n",
       "  <thead>\n",
       "    <tr style=\"text-align: right;\">\n",
       "      <th></th>\n",
       "      <th>actor_1_name</th>\n",
       "      <th>actor_2_name</th>\n",
       "      <th>actor_3_name</th>\n",
       "      <th>director_name</th>\n",
       "    </tr>\n",
       "  </thead>\n",
       "  <tbody>\n",
       "    <tr>\n",
       "      <th>0</th>\n",
       "      <td>CCH Pounder</td>\n",
       "      <td>Joel David Moore</td>\n",
       "      <td>Wes Studi</td>\n",
       "      <td>James Cameron</td>\n",
       "    </tr>\n",
       "    <tr>\n",
       "      <th>1</th>\n",
       "      <td>Johnny Depp</td>\n",
       "      <td>Orlando Bloom</td>\n",
       "      <td>Jack Davenport</td>\n",
       "      <td>Gore Verbinski</td>\n",
       "    </tr>\n",
       "    <tr>\n",
       "      <th>2</th>\n",
       "      <td>Christoph Waltz</td>\n",
       "      <td>Rory Kinnear</td>\n",
       "      <td>Stephanie Sigman</td>\n",
       "      <td>Sam Mendes</td>\n",
       "    </tr>\n",
       "    <tr>\n",
       "      <th>3</th>\n",
       "      <td>Tom Hardy</td>\n",
       "      <td>Christian Bale</td>\n",
       "      <td>Joseph Gordon-Levitt</td>\n",
       "      <td>Christopher Nolan</td>\n",
       "    </tr>\n",
       "    <tr>\n",
       "      <th>4</th>\n",
       "      <td>Doug Walker</td>\n",
       "      <td>Rob Walker</td>\n",
       "      <td>NaN</td>\n",
       "      <td>Doug Walker</td>\n",
       "    </tr>\n",
       "  </tbody>\n",
       "</table>\n",
       "</div>"
      ],
      "text/plain": [
       "      actor_1_name      actor_2_name          actor_3_name      director_name\n",
       "0      CCH Pounder  Joel David Moore             Wes Studi      James Cameron\n",
       "1      Johnny Depp     Orlando Bloom        Jack Davenport     Gore Verbinski\n",
       "2  Christoph Waltz      Rory Kinnear      Stephanie Sigman         Sam Mendes\n",
       "3        Tom Hardy    Christian Bale  Joseph Gordon-Levitt  Christopher Nolan\n",
       "4      Doug Walker        Rob Walker                   NaN        Doug Walker"
      ]
     },
     "execution_count": 14,
     "metadata": {},
     "output_type": "execute_result"
    }
   ],
   "source": [
    "movie_actor_director.head()"
   ]
  },
  {
   "cell_type": "code",
   "execution_count": 15,
   "id": "durable-viewer",
   "metadata": {},
   "outputs": [
    {
     "ename": "KeyError",
     "evalue": "('actor_1_name', 'actor_2_name', 'actor_3_name', 'director_name')",
     "output_type": "error",
     "traceback": [
      "\u001b[0;31m---------------------------------------------------------------------------\u001b[0m",
      "\u001b[0;31mKeyError\u001b[0m                                  Traceback (most recent call last)",
      "\u001b[0;32m~/.local/lib/python3.8/site-packages/pandas/core/indexes/base.py\u001b[0m in \u001b[0;36mget_loc\u001b[0;34m(self, key, method, tolerance)\u001b[0m\n\u001b[1;32m   3079\u001b[0m             \u001b[0;32mtry\u001b[0m\u001b[0;34m:\u001b[0m\u001b[0;34m\u001b[0m\u001b[0;34m\u001b[0m\u001b[0m\n\u001b[0;32m-> 3080\u001b[0;31m                 \u001b[0;32mreturn\u001b[0m \u001b[0mself\u001b[0m\u001b[0;34m.\u001b[0m\u001b[0m_engine\u001b[0m\u001b[0;34m.\u001b[0m\u001b[0mget_loc\u001b[0m\u001b[0;34m(\u001b[0m\u001b[0mcasted_key\u001b[0m\u001b[0;34m)\u001b[0m\u001b[0;34m\u001b[0m\u001b[0;34m\u001b[0m\u001b[0m\n\u001b[0m\u001b[1;32m   3081\u001b[0m             \u001b[0;32mexcept\u001b[0m \u001b[0mKeyError\u001b[0m \u001b[0;32mas\u001b[0m \u001b[0merr\u001b[0m\u001b[0;34m:\u001b[0m\u001b[0;34m\u001b[0m\u001b[0;34m\u001b[0m\u001b[0m\n",
      "\u001b[0;32mpandas/_libs/index.pyx\u001b[0m in \u001b[0;36mpandas._libs.index.IndexEngine.get_loc\u001b[0;34m()\u001b[0m\n",
      "\u001b[0;32mpandas/_libs/index.pyx\u001b[0m in \u001b[0;36mpandas._libs.index.IndexEngine.get_loc\u001b[0;34m()\u001b[0m\n",
      "\u001b[0;32mpandas/_libs/hashtable_class_helper.pxi\u001b[0m in \u001b[0;36mpandas._libs.hashtable.PyObjectHashTable.get_item\u001b[0;34m()\u001b[0m\n",
      "\u001b[0;32mpandas/_libs/hashtable_class_helper.pxi\u001b[0m in \u001b[0;36mpandas._libs.hashtable.PyObjectHashTable.get_item\u001b[0;34m()\u001b[0m\n",
      "\u001b[0;31mKeyError\u001b[0m: ('actor_1_name', 'actor_2_name', 'actor_3_name', 'director_name')",
      "\nThe above exception was the direct cause of the following exception:\n",
      "\u001b[0;31mKeyError\u001b[0m                                  Traceback (most recent call last)",
      "\u001b[0;32m<ipython-input-15-d3ec42d5ff52>\u001b[0m in \u001b[0;36m<module>\u001b[0;34m\u001b[0m\n\u001b[0;32m----> 1\u001b[0;31m movies[\n\u001b[0m\u001b[1;32m      2\u001b[0m     \u001b[0;34m\"actor_1_name\"\u001b[0m\u001b[0;34m,\u001b[0m\u001b[0;34m\u001b[0m\u001b[0;34m\u001b[0m\u001b[0m\n\u001b[1;32m      3\u001b[0m     \u001b[0;34m\"actor_2_name\"\u001b[0m\u001b[0;34m,\u001b[0m\u001b[0;34m\u001b[0m\u001b[0;34m\u001b[0m\u001b[0m\n\u001b[1;32m      4\u001b[0m     \u001b[0;34m\"actor_3_name\"\u001b[0m\u001b[0;34m,\u001b[0m\u001b[0;34m\u001b[0m\u001b[0;34m\u001b[0m\u001b[0m\n\u001b[1;32m      5\u001b[0m     \u001b[0;34m\"director_name\"\u001b[0m\u001b[0;34m\u001b[0m\u001b[0;34m\u001b[0m\u001b[0m\n",
      "\u001b[0;32m~/.local/lib/python3.8/site-packages/pandas/core/frame.py\u001b[0m in \u001b[0;36m__getitem__\u001b[0;34m(self, key)\u001b[0m\n\u001b[1;32m   3022\u001b[0m             \u001b[0;32mif\u001b[0m \u001b[0mself\u001b[0m\u001b[0;34m.\u001b[0m\u001b[0mcolumns\u001b[0m\u001b[0;34m.\u001b[0m\u001b[0mnlevels\u001b[0m \u001b[0;34m>\u001b[0m \u001b[0;36m1\u001b[0m\u001b[0;34m:\u001b[0m\u001b[0;34m\u001b[0m\u001b[0;34m\u001b[0m\u001b[0m\n\u001b[1;32m   3023\u001b[0m                 \u001b[0;32mreturn\u001b[0m \u001b[0mself\u001b[0m\u001b[0;34m.\u001b[0m\u001b[0m_getitem_multilevel\u001b[0m\u001b[0;34m(\u001b[0m\u001b[0mkey\u001b[0m\u001b[0;34m)\u001b[0m\u001b[0;34m\u001b[0m\u001b[0;34m\u001b[0m\u001b[0m\n\u001b[0;32m-> 3024\u001b[0;31m             \u001b[0mindexer\u001b[0m \u001b[0;34m=\u001b[0m \u001b[0mself\u001b[0m\u001b[0;34m.\u001b[0m\u001b[0mcolumns\u001b[0m\u001b[0;34m.\u001b[0m\u001b[0mget_loc\u001b[0m\u001b[0;34m(\u001b[0m\u001b[0mkey\u001b[0m\u001b[0;34m)\u001b[0m\u001b[0;34m\u001b[0m\u001b[0;34m\u001b[0m\u001b[0m\n\u001b[0m\u001b[1;32m   3025\u001b[0m             \u001b[0;32mif\u001b[0m \u001b[0mis_integer\u001b[0m\u001b[0;34m(\u001b[0m\u001b[0mindexer\u001b[0m\u001b[0;34m)\u001b[0m\u001b[0;34m:\u001b[0m\u001b[0;34m\u001b[0m\u001b[0;34m\u001b[0m\u001b[0m\n\u001b[1;32m   3026\u001b[0m                 \u001b[0mindexer\u001b[0m \u001b[0;34m=\u001b[0m \u001b[0;34m[\u001b[0m\u001b[0mindexer\u001b[0m\u001b[0;34m]\u001b[0m\u001b[0;34m\u001b[0m\u001b[0;34m\u001b[0m\u001b[0m\n",
      "\u001b[0;32m~/.local/lib/python3.8/site-packages/pandas/core/indexes/base.py\u001b[0m in \u001b[0;36mget_loc\u001b[0;34m(self, key, method, tolerance)\u001b[0m\n\u001b[1;32m   3080\u001b[0m                 \u001b[0;32mreturn\u001b[0m \u001b[0mself\u001b[0m\u001b[0;34m.\u001b[0m\u001b[0m_engine\u001b[0m\u001b[0;34m.\u001b[0m\u001b[0mget_loc\u001b[0m\u001b[0;34m(\u001b[0m\u001b[0mcasted_key\u001b[0m\u001b[0;34m)\u001b[0m\u001b[0;34m\u001b[0m\u001b[0;34m\u001b[0m\u001b[0m\n\u001b[1;32m   3081\u001b[0m             \u001b[0;32mexcept\u001b[0m \u001b[0mKeyError\u001b[0m \u001b[0;32mas\u001b[0m \u001b[0merr\u001b[0m\u001b[0;34m:\u001b[0m\u001b[0;34m\u001b[0m\u001b[0;34m\u001b[0m\u001b[0m\n\u001b[0;32m-> 3082\u001b[0;31m                 \u001b[0;32mraise\u001b[0m \u001b[0mKeyError\u001b[0m\u001b[0;34m(\u001b[0m\u001b[0mkey\u001b[0m\u001b[0;34m)\u001b[0m \u001b[0;32mfrom\u001b[0m \u001b[0merr\u001b[0m\u001b[0;34m\u001b[0m\u001b[0;34m\u001b[0m\u001b[0m\n\u001b[0m\u001b[1;32m   3083\u001b[0m \u001b[0;34m\u001b[0m\u001b[0m\n\u001b[1;32m   3084\u001b[0m         \u001b[0;32mif\u001b[0m \u001b[0mtolerance\u001b[0m \u001b[0;32mis\u001b[0m \u001b[0;32mnot\u001b[0m \u001b[0;32mNone\u001b[0m\u001b[0;34m:\u001b[0m\u001b[0;34m\u001b[0m\u001b[0;34m\u001b[0m\u001b[0m\n",
      "\u001b[0;31mKeyError\u001b[0m: ('actor_1_name', 'actor_2_name', 'actor_3_name', 'director_name')"
     ]
    }
   ],
   "source": [
    "movies[\n",
    "    \"actor_1_name\",\n",
    "    \"actor_2_name\",\n",
    "    \"actor_3_name\",\n",
    "    \"director_name\"\n",
    "]"
   ]
  },
  {
   "cell_type": "code",
   "execution_count": null,
   "id": "alleged-circuit",
   "metadata": {},
   "outputs": [],
   "source": [
    "movies = pd.read_csv(\"movie.csv\")"
   ]
  },
  {
   "cell_type": "code",
   "execution_count": null,
   "id": "central-creek",
   "metadata": {},
   "outputs": [],
   "source": [
    "def shorten(col):\n",
    "    return (\n",
    "        str(col)\n",
    "        .replace(\"facebook_likes\", \"fb\")\n",
    "        .replace(\"_for_reviews\", \"\")\n",
    "    )"
   ]
  },
  {
   "cell_type": "code",
   "execution_count": null,
   "id": "broadband-anxiety",
   "metadata": {},
   "outputs": [],
   "source": [
    "movies = movies.rename(columns=shorten)"
   ]
  },
  {
   "cell_type": "code",
   "execution_count": null,
   "id": "promising-spring",
   "metadata": {},
   "outputs": [],
   "source": [
    "movies.dtypes.value_counts()"
   ]
  },
  {
   "cell_type": "code",
   "execution_count": null,
   "id": "middle-intake",
   "metadata": {},
   "outputs": [],
   "source": [
    "movies.columns"
   ]
  },
  {
   "cell_type": "code",
   "execution_count": null,
   "id": "pretty-california",
   "metadata": {},
   "outputs": [],
   "source": [
    "movies.select_dtypes(include=\"int\").head()"
   ]
  },
  {
   "cell_type": "code",
   "execution_count": null,
   "id": "developed-worse",
   "metadata": {},
   "outputs": [],
   "source": [
    "movies.dtypes"
   ]
  },
  {
   "cell_type": "code",
   "execution_count": null,
   "id": "divine-barcelona",
   "metadata": {},
   "outputs": [],
   "source": [
    "movies.select_dtypes(include=\"number\").head()"
   ]
  },
  {
   "cell_type": "code",
   "execution_count": null,
   "id": "wooden-probe",
   "metadata": {},
   "outputs": [],
   "source": [
    "movies.select_dtypes(include=[\"int\", \"object\"]).head()"
   ]
  },
  {
   "cell_type": "code",
   "execution_count": null,
   "id": "solid-drill",
   "metadata": {},
   "outputs": [],
   "source": [
    "movies.select_dtypes(exclude=\"float\").head()"
   ]
  },
  {
   "cell_type": "code",
   "execution_count": null,
   "id": "piano-athletics",
   "metadata": {},
   "outputs": [],
   "source": [
    "movies.filter(like=\"fb\").head()"
   ]
  },
  {
   "cell_type": "code",
   "execution_count": null,
   "id": "terminal-calcium",
   "metadata": {},
   "outputs": [],
   "source": [
    "col = [\n",
    "    \"actor_1_name\",\n",
    "    \"actor_2_name\",\n",
    "    \"actor_3_name\",\n",
    "    \"director_name\"\n",
    "]"
   ]
  },
  {
   "cell_type": "code",
   "execution_count": null,
   "id": "loaded-laptop",
   "metadata": {},
   "outputs": [],
   "source": [
    "movies.filter(items=cols).head()"
   ]
  },
  {
   "cell_type": "code",
   "execution_count": null,
   "id": "loose-summit",
   "metadata": {},
   "outputs": [],
   "source": [
    "movies.filter(regex=r\"\\d\").head()"
   ]
  },
  {
   "cell_type": "code",
   "execution_count": null,
   "id": "warming-insulation",
   "metadata": {},
   "outputs": [],
   "source": [
    "movies = pd.read_csv(\"movie.csv\")"
   ]
  },
  {
   "cell_type": "code",
   "execution_count": null,
   "id": "fleet-evans",
   "metadata": {},
   "outputs": [],
   "source": [
    "def shorten(col):\n",
    "    return col.replace(\"facebook_likes\", \"fb\").replace(\"_for_reviews\", \"\")"
   ]
  },
  {
   "cell_type": "code",
   "execution_count": null,
   "id": "thousand-hunger",
   "metadata": {},
   "outputs": [],
   "source": [
    "movies = movies.rename(columns=shorten)"
   ]
  },
  {
   "cell_type": "code",
   "execution_count": null,
   "id": "arctic-action",
   "metadata": {},
   "outputs": [],
   "source": [
    "movies.columns"
   ]
  },
  {
   "cell_type": "code",
   "execution_count": null,
   "id": "distributed-fossil",
   "metadata": {},
   "outputs": [],
   "source": [
    "cat_core = [\n",
    "    \"movie_title\",\n",
    "    \"title_year\",\n",
    "    \"content_rating\",\n",
    "    \"genres\"\n",
    "]"
   ]
  },
  {
   "cell_type": "code",
   "execution_count": null,
   "id": "powered-electric",
   "metadata": {},
   "outputs": [],
   "source": [
    "cat_people = [\n",
    "    \"director_name\",\n",
    "    \"actor_1_name\",\n",
    "    \"actor_2_name\",\n",
    "    \"actor_3_name\"\n",
    "]"
   ]
  },
  {
   "cell_type": "code",
   "execution_count": null,
   "id": "fixed-montana",
   "metadata": {},
   "outputs": [],
   "source": [
    "cat_other = [\n",
    "    \"color\",\n",
    "    \"country\",\n",
    "    \"language\",\n",
    "    \"plot_keywords\",\n",
    "    \"movie_imdb_link\"\n",
    "]"
   ]
  },
  {
   "cell_type": "code",
   "execution_count": null,
   "id": "concerned-stamp",
   "metadata": {},
   "outputs": [],
   "source": [
    "cont_fb = [\n",
    "    \"director_fb\",\n",
    "    \"actor_1_fb\",\n",
    "    \"actor_2_fb\",\n",
    "    \"actor_3_fb\",\n",
    "    \"cast_total_fb\",\n",
    "    \"movie_fb\"\n",
    "]"
   ]
  },
  {
   "cell_type": "code",
   "execution_count": null,
   "id": "exotic-campaign",
   "metadata": {},
   "outputs": [],
   "source": [
    "cont_finance = [\"budget\", \"gross\"]"
   ]
  },
  {
   "cell_type": "code",
   "execution_count": null,
   "id": "honest-valley",
   "metadata": {},
   "outputs": [],
   "source": [
    "cont_num_reviews = [\n",
    "    \"num_voted_users\",\n",
    "    \"num_user\",\n",
    "    \"num_critic\"\n",
    "]"
   ]
  },
  {
   "cell_type": "code",
   "execution_count": null,
   "id": "little-percentage",
   "metadata": {},
   "outputs": [],
   "source": [
    "cont_other = [\n",
    "    \"imdb_score\",\n",
    "    \"duration\",\n",
    "    \"aspect_ratio\",\n",
    "    \"facenumber_in_poster\"\n",
    "]"
   ]
  },
  {
   "cell_type": "code",
   "execution_count": null,
   "id": "broad-spokesman",
   "metadata": {},
   "outputs": [],
   "source": [
    "new_col_order = (\n",
    "    cat_core\n",
    "    + cat_people\n",
    "    + cat_other\n",
    "    + cont_fb\n",
    "    + cont_finance\n",
    "    + cont_num_reviews\n",
    "    + cont_other\n",
    ")"
   ]
  },
  {
   "cell_type": "code",
   "execution_count": null,
   "id": "prescribed-favorite",
   "metadata": {},
   "outputs": [],
   "source": [
    "set(movies.columns) == set(new_col_order)"
   ]
  },
  {
   "cell_type": "code",
   "execution_count": null,
   "id": "several-bicycle",
   "metadata": {},
   "outputs": [],
   "source": [
    "movies[new_col_order].head()"
   ]
  },
  {
   "cell_type": "code",
   "execution_count": null,
   "id": "smooth-withdrawal",
   "metadata": {},
   "outputs": [],
   "source": [
    "#summarizing a dataframe"
   ]
  },
  {
   "cell_type": "code",
   "execution_count": null,
   "id": "rotary-tumor",
   "metadata": {},
   "outputs": [],
   "source": [
    "#step 1"
   ]
  },
  {
   "cell_type": "code",
   "execution_count": null,
   "id": "ethical-monroe",
   "metadata": {},
   "outputs": [],
   "source": [
    "movies = pd.read_csv(\"movie.csv\")"
   ]
  },
  {
   "cell_type": "code",
   "execution_count": null,
   "id": "shared-sense",
   "metadata": {},
   "outputs": [],
   "source": [
    "movies.shape"
   ]
  },
  {
   "cell_type": "code",
   "execution_count": null,
   "id": "lesbian-elder",
   "metadata": {},
   "outputs": [],
   "source": [
    "movies.size"
   ]
  },
  {
   "cell_type": "code",
   "execution_count": null,
   "id": "emotional-means",
   "metadata": {},
   "outputs": [],
   "source": [
    "4916*28"
   ]
  },
  {
   "cell_type": "code",
   "execution_count": null,
   "id": "behavioral-priority",
   "metadata": {},
   "outputs": [],
   "source": [
    "movies.count()"
   ]
  },
  {
   "cell_type": "code",
   "execution_count": null,
   "id": "rough-stress",
   "metadata": {},
   "outputs": [],
   "source": [
    "movies.min()"
   ]
  },
  {
   "cell_type": "code",
   "execution_count": null,
   "id": "korean-holmes",
   "metadata": {},
   "outputs": [],
   "source": [
    "movies.std()"
   ]
  },
  {
   "cell_type": "code",
   "execution_count": null,
   "id": "ambient-central",
   "metadata": {},
   "outputs": [],
   "source": [
    "movies.mean()"
   ]
  },
  {
   "cell_type": "code",
   "execution_count": null,
   "id": "alive-radiation",
   "metadata": {},
   "outputs": [],
   "source": [
    "movies.describe()"
   ]
  },
  {
   "cell_type": "code",
   "execution_count": null,
   "id": "authorized-tissue",
   "metadata": {},
   "outputs": [],
   "source": [
    "movies.describe().T"
   ]
  },
  {
   "cell_type": "code",
   "execution_count": null,
   "id": "dynamic-ceramic",
   "metadata": {},
   "outputs": [],
   "source": [
    "movies.min(skipna=False)"
   ]
  },
  {
   "cell_type": "code",
   "execution_count": null,
   "id": "careful-rebel",
   "metadata": {},
   "outputs": [],
   "source": [
    "#chaining dataframe methods"
   ]
  },
  {
   "cell_type": "code",
   "execution_count": null,
   "id": "accepted-restaurant",
   "metadata": {},
   "outputs": [],
   "source": [
    "#1."
   ]
  },
  {
   "cell_type": "code",
   "execution_count": null,
   "id": "ultimate-rates",
   "metadata": {},
   "outputs": [],
   "source": [
    "movies = pd.read_csv(\"movie.csv\")"
   ]
  },
  {
   "cell_type": "code",
   "execution_count": null,
   "id": "sharp-wings",
   "metadata": {},
   "outputs": [],
   "source": [
    "def shorten(col):\n",
    "    return col.replace(\"facebook_likes\", \"fb\").replace(\"_for_reviews\", \"\")"
   ]
  },
  {
   "cell_type": "code",
   "execution_count": null,
   "id": "missing-needle",
   "metadata": {},
   "outputs": [],
   "source": [
    "movies = movies.rename(columns=shorten)"
   ]
  },
  {
   "cell_type": "code",
   "execution_count": null,
   "id": "million-study",
   "metadata": {},
   "outputs": [],
   "source": [
    "movies.isnull().head()"
   ]
  },
  {
   "cell_type": "code",
   "execution_count": null,
   "id": "terminal-devices",
   "metadata": {},
   "outputs": [],
   "source": [
    "#2."
   ]
  },
  {
   "cell_type": "code",
   "execution_count": null,
   "id": "statutory-valentine",
   "metadata": {},
   "outputs": [],
   "source": [
    "(movies.isnull().sum().head())"
   ]
  },
  {
   "cell_type": "code",
   "execution_count": null,
   "id": "ideal-constitution",
   "metadata": {},
   "outputs": [],
   "source": [
    "#3."
   ]
  },
  {
   "cell_type": "code",
   "execution_count": null,
   "id": "chubby-james",
   "metadata": {},
   "outputs": [],
   "source": [
    "movies.isnull().sum().sum()"
   ]
  },
  {
   "cell_type": "code",
   "execution_count": null,
   "id": "sexual-survival",
   "metadata": {},
   "outputs": [],
   "source": [
    "#4."
   ]
  },
  {
   "cell_type": "code",
   "execution_count": null,
   "id": "british-trinidad",
   "metadata": {},
   "outputs": [],
   "source": [
    "movies.isnull().any().any()"
   ]
  },
  {
   "cell_type": "code",
   "execution_count": null,
   "id": "departmental-respect",
   "metadata": {},
   "outputs": [],
   "source": [
    "movies.isnull().dtypes.value_counts()"
   ]
  },
  {
   "cell_type": "code",
   "execution_count": null,
   "id": "transsexual-pound",
   "metadata": {},
   "outputs": [],
   "source": [
    "movies[[\"color\", \"movie_title\", \"color\"]].max()"
   ]
  },
  {
   "cell_type": "code",
   "execution_count": null,
   "id": "specific-handle",
   "metadata": {},
   "outputs": [],
   "source": [
    "(movies.select_dtypes([\"object\"]).fillna(\"\").max())"
   ]
  },
  {
   "cell_type": "code",
   "execution_count": 17,
   "id": "sonic-adult",
   "metadata": {},
   "outputs": [],
   "source": [
    "colleges = pd.read_csv(\"college.csv\", index_col=\"INSTNM\")"
   ]
  },
  {
   "cell_type": "code",
   "execution_count": 18,
   "id": "genuine-license",
   "metadata": {},
   "outputs": [],
   "source": [
    "college_ugds = colleges.filter(like=\"UGDS_\")"
   ]
  },
  {
   "cell_type": "code",
   "execution_count": 19,
   "id": "sweet-crest",
   "metadata": {},
   "outputs": [
    {
     "data": {
      "text/html": [
       "<div>\n",
       "<style scoped>\n",
       "    .dataframe tbody tr th:only-of-type {\n",
       "        vertical-align: middle;\n",
       "    }\n",
       "\n",
       "    .dataframe tbody tr th {\n",
       "        vertical-align: top;\n",
       "    }\n",
       "\n",
       "    .dataframe thead th {\n",
       "        text-align: right;\n",
       "    }\n",
       "</style>\n",
       "<table border=\"1\" class=\"dataframe\">\n",
       "  <thead>\n",
       "    <tr style=\"text-align: right;\">\n",
       "      <th></th>\n",
       "      <th>UGDS_WHITE</th>\n",
       "      <th>UGDS_BLACK</th>\n",
       "      <th>UGDS_HISP</th>\n",
       "      <th>UGDS_ASIAN</th>\n",
       "      <th>UGDS_AIAN</th>\n",
       "      <th>UGDS_NHPI</th>\n",
       "      <th>UGDS_2MOR</th>\n",
       "      <th>UGDS_NRA</th>\n",
       "      <th>UGDS_UNKN</th>\n",
       "    </tr>\n",
       "    <tr>\n",
       "      <th>INSTNM</th>\n",
       "      <th></th>\n",
       "      <th></th>\n",
       "      <th></th>\n",
       "      <th></th>\n",
       "      <th></th>\n",
       "      <th></th>\n",
       "      <th></th>\n",
       "      <th></th>\n",
       "      <th></th>\n",
       "    </tr>\n",
       "  </thead>\n",
       "  <tbody>\n",
       "    <tr>\n",
       "      <th>Alabama A &amp; M University</th>\n",
       "      <td>0.0333</td>\n",
       "      <td>0.9353</td>\n",
       "      <td>0.0055</td>\n",
       "      <td>0.0019</td>\n",
       "      <td>0.0024</td>\n",
       "      <td>0.0019</td>\n",
       "      <td>0.0000</td>\n",
       "      <td>0.0059</td>\n",
       "      <td>0.0138</td>\n",
       "    </tr>\n",
       "    <tr>\n",
       "      <th>University of Alabama at Birmingham</th>\n",
       "      <td>0.5922</td>\n",
       "      <td>0.2600</td>\n",
       "      <td>0.0283</td>\n",
       "      <td>0.0518</td>\n",
       "      <td>0.0022</td>\n",
       "      <td>0.0007</td>\n",
       "      <td>0.0368</td>\n",
       "      <td>0.0179</td>\n",
       "      <td>0.0100</td>\n",
       "    </tr>\n",
       "    <tr>\n",
       "      <th>Amridge University</th>\n",
       "      <td>0.2990</td>\n",
       "      <td>0.4192</td>\n",
       "      <td>0.0069</td>\n",
       "      <td>0.0034</td>\n",
       "      <td>0.0000</td>\n",
       "      <td>0.0000</td>\n",
       "      <td>0.0000</td>\n",
       "      <td>0.0000</td>\n",
       "      <td>0.2715</td>\n",
       "    </tr>\n",
       "    <tr>\n",
       "      <th>University of Alabama in Huntsville</th>\n",
       "      <td>0.6988</td>\n",
       "      <td>0.1255</td>\n",
       "      <td>0.0382</td>\n",
       "      <td>0.0376</td>\n",
       "      <td>0.0143</td>\n",
       "      <td>0.0002</td>\n",
       "      <td>0.0172</td>\n",
       "      <td>0.0332</td>\n",
       "      <td>0.0350</td>\n",
       "    </tr>\n",
       "    <tr>\n",
       "      <th>Alabama State University</th>\n",
       "      <td>0.0158</td>\n",
       "      <td>0.9208</td>\n",
       "      <td>0.0121</td>\n",
       "      <td>0.0019</td>\n",
       "      <td>0.0010</td>\n",
       "      <td>0.0006</td>\n",
       "      <td>0.0098</td>\n",
       "      <td>0.0243</td>\n",
       "      <td>0.0137</td>\n",
       "    </tr>\n",
       "  </tbody>\n",
       "</table>\n",
       "</div>"
      ],
      "text/plain": [
       "                                     UGDS_WHITE  UGDS_BLACK  UGDS_HISP  \\\n",
       "INSTNM                                                                   \n",
       "Alabama A & M University                 0.0333      0.9353     0.0055   \n",
       "University of Alabama at Birmingham      0.5922      0.2600     0.0283   \n",
       "Amridge University                       0.2990      0.4192     0.0069   \n",
       "University of Alabama in Huntsville      0.6988      0.1255     0.0382   \n",
       "Alabama State University                 0.0158      0.9208     0.0121   \n",
       "\n",
       "                                     UGDS_ASIAN  UGDS_AIAN  UGDS_NHPI  \\\n",
       "INSTNM                                                                  \n",
       "Alabama A & M University                 0.0019     0.0024     0.0019   \n",
       "University of Alabama at Birmingham      0.0518     0.0022     0.0007   \n",
       "Amridge University                       0.0034     0.0000     0.0000   \n",
       "University of Alabama in Huntsville      0.0376     0.0143     0.0002   \n",
       "Alabama State University                 0.0019     0.0010     0.0006   \n",
       "\n",
       "                                     UGDS_2MOR  UGDS_NRA  UGDS_UNKN  \n",
       "INSTNM                                                               \n",
       "Alabama A & M University                0.0000    0.0059     0.0138  \n",
       "University of Alabama at Birmingham     0.0368    0.0179     0.0100  \n",
       "Amridge University                      0.0000    0.0000     0.2715  \n",
       "University of Alabama in Huntsville     0.0172    0.0332     0.0350  \n",
       "Alabama State University                0.0098    0.0243     0.0137  "
      ]
     },
     "execution_count": 19,
     "metadata": {},
     "output_type": "execute_result"
    }
   ],
   "source": [
    "college_ugds.head()"
   ]
  },
  {
   "cell_type": "code",
   "execution_count": 20,
   "id": "final-paste",
   "metadata": {},
   "outputs": [],
   "source": [
    "name = \"Northwest-Shoals Community College\""
   ]
  },
  {
   "cell_type": "code",
   "execution_count": 21,
   "id": "sapphire-garlic",
   "metadata": {},
   "outputs": [
    {
     "data": {
      "text/plain": [
       "UGDS_WHITE    0.7912\n",
       "UGDS_BLACK    0.1250\n",
       "UGDS_HISP     0.0339\n",
       "UGDS_ASIAN    0.0036\n",
       "UGDS_AIAN     0.0088\n",
       "UGDS_NHPI     0.0006\n",
       "UGDS_2MOR     0.0012\n",
       "UGDS_NRA      0.0033\n",
       "UGDS_UNKN     0.0324\n",
       "Name: Northwest-Shoals Community College, dtype: float64"
      ]
     },
     "execution_count": 21,
     "metadata": {},
     "output_type": "execute_result"
    }
   ],
   "source": [
    "college_ugds.loc[name]"
   ]
  },
  {
   "cell_type": "code",
   "execution_count": 22,
   "id": "recorded-negotiation",
   "metadata": {},
   "outputs": [
    {
     "data": {
      "text/plain": [
       "UGDS_WHITE    0.79\n",
       "UGDS_BLACK    0.12\n",
       "UGDS_HISP     0.03\n",
       "UGDS_ASIAN    0.00\n",
       "UGDS_AIAN     0.01\n",
       "UGDS_NHPI     0.00\n",
       "UGDS_2MOR     0.00\n",
       "UGDS_NRA      0.00\n",
       "UGDS_UNKN     0.03\n",
       "Name: Northwest-Shoals Community College, dtype: float64"
      ]
     },
     "execution_count": 22,
     "metadata": {},
     "output_type": "execute_result"
    }
   ],
   "source": [
    "college_ugds.loc[name].round(2)"
   ]
  },
  {
   "cell_type": "code",
   "execution_count": 23,
   "id": "adequate-standard",
   "metadata": {},
   "outputs": [
    {
     "data": {
      "text/plain": [
       "UGDS_WHITE    0.79\n",
       "UGDS_BLACK    0.13\n",
       "UGDS_HISP     0.03\n",
       "UGDS_ASIAN    0.00\n",
       "UGDS_AIAN     0.01\n",
       "UGDS_NHPI     0.00\n",
       "UGDS_2MOR     0.00\n",
       "UGDS_NRA      0.00\n",
       "UGDS_UNKN     0.03\n",
       "Name: Northwest-Shoals Community College, dtype: float64"
      ]
     },
     "execution_count": 23,
     "metadata": {},
     "output_type": "execute_result"
    }
   ],
   "source": [
    "(college_ugds.loc[name] + 0.0001).round(2)"
   ]
  },
  {
   "cell_type": "code",
   "execution_count": 24,
   "id": "attached-roads",
   "metadata": {},
   "outputs": [
    {
     "data": {
      "text/html": [
       "<div>\n",
       "<style scoped>\n",
       "    .dataframe tbody tr th:only-of-type {\n",
       "        vertical-align: middle;\n",
       "    }\n",
       "\n",
       "    .dataframe tbody tr th {\n",
       "        vertical-align: top;\n",
       "    }\n",
       "\n",
       "    .dataframe thead th {\n",
       "        text-align: right;\n",
       "    }\n",
       "</style>\n",
       "<table border=\"1\" class=\"dataframe\">\n",
       "  <thead>\n",
       "    <tr style=\"text-align: right;\">\n",
       "      <th></th>\n",
       "      <th>UGDS_WHITE</th>\n",
       "      <th>UGDS_BLACK</th>\n",
       "      <th>UGDS_HISP</th>\n",
       "      <th>UGDS_ASIAN</th>\n",
       "      <th>UGDS_AIAN</th>\n",
       "      <th>UGDS_NHPI</th>\n",
       "      <th>UGDS_2MOR</th>\n",
       "      <th>UGDS_NRA</th>\n",
       "      <th>UGDS_UNKN</th>\n",
       "    </tr>\n",
       "    <tr>\n",
       "      <th>INSTNM</th>\n",
       "      <th></th>\n",
       "      <th></th>\n",
       "      <th></th>\n",
       "      <th></th>\n",
       "      <th></th>\n",
       "      <th></th>\n",
       "      <th></th>\n",
       "      <th></th>\n",
       "      <th></th>\n",
       "    </tr>\n",
       "  </thead>\n",
       "  <tbody>\n",
       "    <tr>\n",
       "      <th>Alabama A &amp; M University</th>\n",
       "      <td>0.03831</td>\n",
       "      <td>0.94031</td>\n",
       "      <td>0.01051</td>\n",
       "      <td>0.00691</td>\n",
       "      <td>0.00741</td>\n",
       "      <td>0.00691</td>\n",
       "      <td>0.00501</td>\n",
       "      <td>0.01091</td>\n",
       "      <td>0.01881</td>\n",
       "    </tr>\n",
       "    <tr>\n",
       "      <th>University of Alabama at Birmingham</th>\n",
       "      <td>0.59721</td>\n",
       "      <td>0.26501</td>\n",
       "      <td>0.03331</td>\n",
       "      <td>0.05681</td>\n",
       "      <td>0.00721</td>\n",
       "      <td>0.00571</td>\n",
       "      <td>0.04181</td>\n",
       "      <td>0.02291</td>\n",
       "      <td>0.01501</td>\n",
       "    </tr>\n",
       "    <tr>\n",
       "      <th>Amridge University</th>\n",
       "      <td>0.30401</td>\n",
       "      <td>0.42421</td>\n",
       "      <td>0.01191</td>\n",
       "      <td>0.00841</td>\n",
       "      <td>0.00501</td>\n",
       "      <td>0.00501</td>\n",
       "      <td>0.00501</td>\n",
       "      <td>0.00501</td>\n",
       "      <td>0.27651</td>\n",
       "    </tr>\n",
       "    <tr>\n",
       "      <th>University of Alabama in Huntsville</th>\n",
       "      <td>0.70381</td>\n",
       "      <td>0.13051</td>\n",
       "      <td>0.04321</td>\n",
       "      <td>0.04261</td>\n",
       "      <td>0.01931</td>\n",
       "      <td>0.00521</td>\n",
       "      <td>0.02221</td>\n",
       "      <td>0.03821</td>\n",
       "      <td>0.04001</td>\n",
       "    </tr>\n",
       "    <tr>\n",
       "      <th>Alabama State University</th>\n",
       "      <td>0.02081</td>\n",
       "      <td>0.92581</td>\n",
       "      <td>0.01711</td>\n",
       "      <td>0.00691</td>\n",
       "      <td>0.00601</td>\n",
       "      <td>0.00561</td>\n",
       "      <td>0.01481</td>\n",
       "      <td>0.02931</td>\n",
       "      <td>0.01871</td>\n",
       "    </tr>\n",
       "    <tr>\n",
       "      <th>...</th>\n",
       "      <td>...</td>\n",
       "      <td>...</td>\n",
       "      <td>...</td>\n",
       "      <td>...</td>\n",
       "      <td>...</td>\n",
       "      <td>...</td>\n",
       "      <td>...</td>\n",
       "      <td>...</td>\n",
       "      <td>...</td>\n",
       "    </tr>\n",
       "    <tr>\n",
       "      <th>SAE Institute of Technology  San Francisco</th>\n",
       "      <td>NaN</td>\n",
       "      <td>NaN</td>\n",
       "      <td>NaN</td>\n",
       "      <td>NaN</td>\n",
       "      <td>NaN</td>\n",
       "      <td>NaN</td>\n",
       "      <td>NaN</td>\n",
       "      <td>NaN</td>\n",
       "      <td>NaN</td>\n",
       "    </tr>\n",
       "    <tr>\n",
       "      <th>Rasmussen College - Overland Park</th>\n",
       "      <td>NaN</td>\n",
       "      <td>NaN</td>\n",
       "      <td>NaN</td>\n",
       "      <td>NaN</td>\n",
       "      <td>NaN</td>\n",
       "      <td>NaN</td>\n",
       "      <td>NaN</td>\n",
       "      <td>NaN</td>\n",
       "      <td>NaN</td>\n",
       "    </tr>\n",
       "    <tr>\n",
       "      <th>National Personal Training Institute of Cleveland</th>\n",
       "      <td>NaN</td>\n",
       "      <td>NaN</td>\n",
       "      <td>NaN</td>\n",
       "      <td>NaN</td>\n",
       "      <td>NaN</td>\n",
       "      <td>NaN</td>\n",
       "      <td>NaN</td>\n",
       "      <td>NaN</td>\n",
       "      <td>NaN</td>\n",
       "    </tr>\n",
       "    <tr>\n",
       "      <th>Bay Area Medical Academy - San Jose Satellite Location</th>\n",
       "      <td>NaN</td>\n",
       "      <td>NaN</td>\n",
       "      <td>NaN</td>\n",
       "      <td>NaN</td>\n",
       "      <td>NaN</td>\n",
       "      <td>NaN</td>\n",
       "      <td>NaN</td>\n",
       "      <td>NaN</td>\n",
       "      <td>NaN</td>\n",
       "    </tr>\n",
       "    <tr>\n",
       "      <th>Excel Learning Center-San Antonio South</th>\n",
       "      <td>NaN</td>\n",
       "      <td>NaN</td>\n",
       "      <td>NaN</td>\n",
       "      <td>NaN</td>\n",
       "      <td>NaN</td>\n",
       "      <td>NaN</td>\n",
       "      <td>NaN</td>\n",
       "      <td>NaN</td>\n",
       "      <td>NaN</td>\n",
       "    </tr>\n",
       "  </tbody>\n",
       "</table>\n",
       "<p>7535 rows × 9 columns</p>\n",
       "</div>"
      ],
      "text/plain": [
       "                                                    UGDS_WHITE  UGDS_BLACK  \\\n",
       "INSTNM                                                                       \n",
       "Alabama A & M University                               0.03831     0.94031   \n",
       "University of Alabama at Birmingham                    0.59721     0.26501   \n",
       "Amridge University                                     0.30401     0.42421   \n",
       "University of Alabama in Huntsville                    0.70381     0.13051   \n",
       "Alabama State University                               0.02081     0.92581   \n",
       "...                                                        ...         ...   \n",
       "SAE Institute of Technology  San Francisco                 NaN         NaN   \n",
       "Rasmussen College - Overland Park                          NaN         NaN   \n",
       "National Personal Training Institute of Cleveland          NaN         NaN   \n",
       "Bay Area Medical Academy - San Jose Satellite L...         NaN         NaN   \n",
       "Excel Learning Center-San Antonio South                    NaN         NaN   \n",
       "\n",
       "                                                    UGDS_HISP  UGDS_ASIAN  \\\n",
       "INSTNM                                                                      \n",
       "Alabama A & M University                              0.01051     0.00691   \n",
       "University of Alabama at Birmingham                   0.03331     0.05681   \n",
       "Amridge University                                    0.01191     0.00841   \n",
       "University of Alabama in Huntsville                   0.04321     0.04261   \n",
       "Alabama State University                              0.01711     0.00691   \n",
       "...                                                       ...         ...   \n",
       "SAE Institute of Technology  San Francisco                NaN         NaN   \n",
       "Rasmussen College - Overland Park                         NaN         NaN   \n",
       "National Personal Training Institute of Cleveland         NaN         NaN   \n",
       "Bay Area Medical Academy - San Jose Satellite L...        NaN         NaN   \n",
       "Excel Learning Center-San Antonio South                   NaN         NaN   \n",
       "\n",
       "                                                    UGDS_AIAN  UGDS_NHPI  \\\n",
       "INSTNM                                                                     \n",
       "Alabama A & M University                              0.00741    0.00691   \n",
       "University of Alabama at Birmingham                   0.00721    0.00571   \n",
       "Amridge University                                    0.00501    0.00501   \n",
       "University of Alabama in Huntsville                   0.01931    0.00521   \n",
       "Alabama State University                              0.00601    0.00561   \n",
       "...                                                       ...        ...   \n",
       "SAE Institute of Technology  San Francisco                NaN        NaN   \n",
       "Rasmussen College - Overland Park                         NaN        NaN   \n",
       "National Personal Training Institute of Cleveland         NaN        NaN   \n",
       "Bay Area Medical Academy - San Jose Satellite L...        NaN        NaN   \n",
       "Excel Learning Center-San Antonio South                   NaN        NaN   \n",
       "\n",
       "                                                    UGDS_2MOR  UGDS_NRA  \\\n",
       "INSTNM                                                                    \n",
       "Alabama A & M University                              0.00501   0.01091   \n",
       "University of Alabama at Birmingham                   0.04181   0.02291   \n",
       "Amridge University                                    0.00501   0.00501   \n",
       "University of Alabama in Huntsville                   0.02221   0.03821   \n",
       "Alabama State University                              0.01481   0.02931   \n",
       "...                                                       ...       ...   \n",
       "SAE Institute of Technology  San Francisco                NaN       NaN   \n",
       "Rasmussen College - Overland Park                         NaN       NaN   \n",
       "National Personal Training Institute of Cleveland         NaN       NaN   \n",
       "Bay Area Medical Academy - San Jose Satellite L...        NaN       NaN   \n",
       "Excel Learning Center-San Antonio South                   NaN       NaN   \n",
       "\n",
       "                                                    UGDS_UNKN  \n",
       "INSTNM                                                         \n",
       "Alabama A & M University                              0.01881  \n",
       "University of Alabama at Birmingham                   0.01501  \n",
       "Amridge University                                    0.27651  \n",
       "University of Alabama in Huntsville                   0.04001  \n",
       "Alabama State University                              0.01871  \n",
       "...                                                       ...  \n",
       "SAE Institute of Technology  San Francisco                NaN  \n",
       "Rasmussen College - Overland Park                         NaN  \n",
       "National Personal Training Institute of Cleveland         NaN  \n",
       "Bay Area Medical Academy - San Jose Satellite L...        NaN  \n",
       "Excel Learning Center-San Antonio South                   NaN  \n",
       "\n",
       "[7535 rows x 9 columns]"
      ]
     },
     "execution_count": 24,
     "metadata": {},
     "output_type": "execute_result"
    }
   ],
   "source": [
    "college_ugds + 0.00501"
   ]
  },
  {
   "cell_type": "code",
   "execution_count": 25,
   "id": "everyday-hungarian",
   "metadata": {},
   "outputs": [
    {
     "data": {
      "text/html": [
       "<div>\n",
       "<style scoped>\n",
       "    .dataframe tbody tr th:only-of-type {\n",
       "        vertical-align: middle;\n",
       "    }\n",
       "\n",
       "    .dataframe tbody tr th {\n",
       "        vertical-align: top;\n",
       "    }\n",
       "\n",
       "    .dataframe thead th {\n",
       "        text-align: right;\n",
       "    }\n",
       "</style>\n",
       "<table border=\"1\" class=\"dataframe\">\n",
       "  <thead>\n",
       "    <tr style=\"text-align: right;\">\n",
       "      <th></th>\n",
       "      <th>UGDS_WHITE</th>\n",
       "      <th>UGDS_BLACK</th>\n",
       "      <th>UGDS_HISP</th>\n",
       "      <th>UGDS_ASIAN</th>\n",
       "      <th>UGDS_AIAN</th>\n",
       "      <th>UGDS_NHPI</th>\n",
       "      <th>UGDS_2MOR</th>\n",
       "      <th>UGDS_NRA</th>\n",
       "      <th>UGDS_UNKN</th>\n",
       "    </tr>\n",
       "    <tr>\n",
       "      <th>INSTNM</th>\n",
       "      <th></th>\n",
       "      <th></th>\n",
       "      <th></th>\n",
       "      <th></th>\n",
       "      <th></th>\n",
       "      <th></th>\n",
       "      <th></th>\n",
       "      <th></th>\n",
       "      <th></th>\n",
       "    </tr>\n",
       "  </thead>\n",
       "  <tbody>\n",
       "    <tr>\n",
       "      <th>Alabama A &amp; M University</th>\n",
       "      <td>3.0</td>\n",
       "      <td>94.0</td>\n",
       "      <td>1.0</td>\n",
       "      <td>0.0</td>\n",
       "      <td>0.0</td>\n",
       "      <td>0.0</td>\n",
       "      <td>0.0</td>\n",
       "      <td>1.0</td>\n",
       "      <td>1.0</td>\n",
       "    </tr>\n",
       "    <tr>\n",
       "      <th>University of Alabama at Birmingham</th>\n",
       "      <td>59.0</td>\n",
       "      <td>26.0</td>\n",
       "      <td>3.0</td>\n",
       "      <td>5.0</td>\n",
       "      <td>0.0</td>\n",
       "      <td>0.0</td>\n",
       "      <td>4.0</td>\n",
       "      <td>2.0</td>\n",
       "      <td>1.0</td>\n",
       "    </tr>\n",
       "    <tr>\n",
       "      <th>Amridge University</th>\n",
       "      <td>30.0</td>\n",
       "      <td>42.0</td>\n",
       "      <td>1.0</td>\n",
       "      <td>0.0</td>\n",
       "      <td>0.0</td>\n",
       "      <td>0.0</td>\n",
       "      <td>0.0</td>\n",
       "      <td>0.0</td>\n",
       "      <td>27.0</td>\n",
       "    </tr>\n",
       "    <tr>\n",
       "      <th>University of Alabama in Huntsville</th>\n",
       "      <td>70.0</td>\n",
       "      <td>13.0</td>\n",
       "      <td>4.0</td>\n",
       "      <td>4.0</td>\n",
       "      <td>1.0</td>\n",
       "      <td>0.0</td>\n",
       "      <td>2.0</td>\n",
       "      <td>3.0</td>\n",
       "      <td>4.0</td>\n",
       "    </tr>\n",
       "    <tr>\n",
       "      <th>Alabama State University</th>\n",
       "      <td>2.0</td>\n",
       "      <td>92.0</td>\n",
       "      <td>1.0</td>\n",
       "      <td>0.0</td>\n",
       "      <td>0.0</td>\n",
       "      <td>0.0</td>\n",
       "      <td>1.0</td>\n",
       "      <td>2.0</td>\n",
       "      <td>1.0</td>\n",
       "    </tr>\n",
       "    <tr>\n",
       "      <th>...</th>\n",
       "      <td>...</td>\n",
       "      <td>...</td>\n",
       "      <td>...</td>\n",
       "      <td>...</td>\n",
       "      <td>...</td>\n",
       "      <td>...</td>\n",
       "      <td>...</td>\n",
       "      <td>...</td>\n",
       "      <td>...</td>\n",
       "    </tr>\n",
       "    <tr>\n",
       "      <th>SAE Institute of Technology  San Francisco</th>\n",
       "      <td>NaN</td>\n",
       "      <td>NaN</td>\n",
       "      <td>NaN</td>\n",
       "      <td>NaN</td>\n",
       "      <td>NaN</td>\n",
       "      <td>NaN</td>\n",
       "      <td>NaN</td>\n",
       "      <td>NaN</td>\n",
       "      <td>NaN</td>\n",
       "    </tr>\n",
       "    <tr>\n",
       "      <th>Rasmussen College - Overland Park</th>\n",
       "      <td>NaN</td>\n",
       "      <td>NaN</td>\n",
       "      <td>NaN</td>\n",
       "      <td>NaN</td>\n",
       "      <td>NaN</td>\n",
       "      <td>NaN</td>\n",
       "      <td>NaN</td>\n",
       "      <td>NaN</td>\n",
       "      <td>NaN</td>\n",
       "    </tr>\n",
       "    <tr>\n",
       "      <th>National Personal Training Institute of Cleveland</th>\n",
       "      <td>NaN</td>\n",
       "      <td>NaN</td>\n",
       "      <td>NaN</td>\n",
       "      <td>NaN</td>\n",
       "      <td>NaN</td>\n",
       "      <td>NaN</td>\n",
       "      <td>NaN</td>\n",
       "      <td>NaN</td>\n",
       "      <td>NaN</td>\n",
       "    </tr>\n",
       "    <tr>\n",
       "      <th>Bay Area Medical Academy - San Jose Satellite Location</th>\n",
       "      <td>NaN</td>\n",
       "      <td>NaN</td>\n",
       "      <td>NaN</td>\n",
       "      <td>NaN</td>\n",
       "      <td>NaN</td>\n",
       "      <td>NaN</td>\n",
       "      <td>NaN</td>\n",
       "      <td>NaN</td>\n",
       "      <td>NaN</td>\n",
       "    </tr>\n",
       "    <tr>\n",
       "      <th>Excel Learning Center-San Antonio South</th>\n",
       "      <td>NaN</td>\n",
       "      <td>NaN</td>\n",
       "      <td>NaN</td>\n",
       "      <td>NaN</td>\n",
       "      <td>NaN</td>\n",
       "      <td>NaN</td>\n",
       "      <td>NaN</td>\n",
       "      <td>NaN</td>\n",
       "      <td>NaN</td>\n",
       "    </tr>\n",
       "  </tbody>\n",
       "</table>\n",
       "<p>7535 rows × 9 columns</p>\n",
       "</div>"
      ],
      "text/plain": [
       "                                                    UGDS_WHITE  UGDS_BLACK  \\\n",
       "INSTNM                                                                       \n",
       "Alabama A & M University                                   3.0        94.0   \n",
       "University of Alabama at Birmingham                       59.0        26.0   \n",
       "Amridge University                                        30.0        42.0   \n",
       "University of Alabama in Huntsville                       70.0        13.0   \n",
       "Alabama State University                                   2.0        92.0   \n",
       "...                                                        ...         ...   \n",
       "SAE Institute of Technology  San Francisco                 NaN         NaN   \n",
       "Rasmussen College - Overland Park                          NaN         NaN   \n",
       "National Personal Training Institute of Cleveland          NaN         NaN   \n",
       "Bay Area Medical Academy - San Jose Satellite L...         NaN         NaN   \n",
       "Excel Learning Center-San Antonio South                    NaN         NaN   \n",
       "\n",
       "                                                    UGDS_HISP  UGDS_ASIAN  \\\n",
       "INSTNM                                                                      \n",
       "Alabama A & M University                                  1.0         0.0   \n",
       "University of Alabama at Birmingham                       3.0         5.0   \n",
       "Amridge University                                        1.0         0.0   \n",
       "University of Alabama in Huntsville                       4.0         4.0   \n",
       "Alabama State University                                  1.0         0.0   \n",
       "...                                                       ...         ...   \n",
       "SAE Institute of Technology  San Francisco                NaN         NaN   \n",
       "Rasmussen College - Overland Park                         NaN         NaN   \n",
       "National Personal Training Institute of Cleveland         NaN         NaN   \n",
       "Bay Area Medical Academy - San Jose Satellite L...        NaN         NaN   \n",
       "Excel Learning Center-San Antonio South                   NaN         NaN   \n",
       "\n",
       "                                                    UGDS_AIAN  UGDS_NHPI  \\\n",
       "INSTNM                                                                     \n",
       "Alabama A & M University                                  0.0        0.0   \n",
       "University of Alabama at Birmingham                       0.0        0.0   \n",
       "Amridge University                                        0.0        0.0   \n",
       "University of Alabama in Huntsville                       1.0        0.0   \n",
       "Alabama State University                                  0.0        0.0   \n",
       "...                                                       ...        ...   \n",
       "SAE Institute of Technology  San Francisco                NaN        NaN   \n",
       "Rasmussen College - Overland Park                         NaN        NaN   \n",
       "National Personal Training Institute of Cleveland         NaN        NaN   \n",
       "Bay Area Medical Academy - San Jose Satellite L...        NaN        NaN   \n",
       "Excel Learning Center-San Antonio South                   NaN        NaN   \n",
       "\n",
       "                                                    UGDS_2MOR  UGDS_NRA  \\\n",
       "INSTNM                                                                    \n",
       "Alabama A & M University                                  0.0       1.0   \n",
       "University of Alabama at Birmingham                       4.0       2.0   \n",
       "Amridge University                                        0.0       0.0   \n",
       "University of Alabama in Huntsville                       2.0       3.0   \n",
       "Alabama State University                                  1.0       2.0   \n",
       "...                                                       ...       ...   \n",
       "SAE Institute of Technology  San Francisco                NaN       NaN   \n",
       "Rasmussen College - Overland Park                         NaN       NaN   \n",
       "National Personal Training Institute of Cleveland         NaN       NaN   \n",
       "Bay Area Medical Academy - San Jose Satellite L...        NaN       NaN   \n",
       "Excel Learning Center-San Antonio South                   NaN       NaN   \n",
       "\n",
       "                                                    UGDS_UNKN  \n",
       "INSTNM                                                         \n",
       "Alabama A & M University                                  1.0  \n",
       "University of Alabama at Birmingham                       1.0  \n",
       "Amridge University                                       27.0  \n",
       "University of Alabama in Huntsville                       4.0  \n",
       "Alabama State University                                  1.0  \n",
       "...                                                       ...  \n",
       "SAE Institute of Technology  San Francisco                NaN  \n",
       "Rasmussen College - Overland Park                         NaN  \n",
       "National Personal Training Institute of Cleveland         NaN  \n",
       "Bay Area Medical Academy - San Jose Satellite L...        NaN  \n",
       "Excel Learning Center-San Antonio South                   NaN  \n",
       "\n",
       "[7535 rows x 9 columns]"
      ]
     },
     "execution_count": 25,
     "metadata": {},
     "output_type": "execute_result"
    }
   ],
   "source": [
    "(college_ugds + 0.00501) // 0.01"
   ]
  },
  {
   "cell_type": "code",
   "execution_count": 26,
   "id": "champion-economics",
   "metadata": {},
   "outputs": [],
   "source": [
    "college_ugds_op_round = (\n",
    "    (college_ugds + 0.00501) // 0.01 / 100\n",
    ")"
   ]
  },
  {
   "cell_type": "code",
   "execution_count": 27,
   "id": "primary-monroe",
   "metadata": {},
   "outputs": [
    {
     "data": {
      "text/html": [
       "<div>\n",
       "<style scoped>\n",
       "    .dataframe tbody tr th:only-of-type {\n",
       "        vertical-align: middle;\n",
       "    }\n",
       "\n",
       "    .dataframe tbody tr th {\n",
       "        vertical-align: top;\n",
       "    }\n",
       "\n",
       "    .dataframe thead th {\n",
       "        text-align: right;\n",
       "    }\n",
       "</style>\n",
       "<table border=\"1\" class=\"dataframe\">\n",
       "  <thead>\n",
       "    <tr style=\"text-align: right;\">\n",
       "      <th></th>\n",
       "      <th>UGDS_WHITE</th>\n",
       "      <th>UGDS_BLACK</th>\n",
       "      <th>UGDS_HISP</th>\n",
       "      <th>UGDS_ASIAN</th>\n",
       "      <th>UGDS_AIAN</th>\n",
       "      <th>UGDS_NHPI</th>\n",
       "      <th>UGDS_2MOR</th>\n",
       "      <th>UGDS_NRA</th>\n",
       "      <th>UGDS_UNKN</th>\n",
       "    </tr>\n",
       "    <tr>\n",
       "      <th>INSTNM</th>\n",
       "      <th></th>\n",
       "      <th></th>\n",
       "      <th></th>\n",
       "      <th></th>\n",
       "      <th></th>\n",
       "      <th></th>\n",
       "      <th></th>\n",
       "      <th></th>\n",
       "      <th></th>\n",
       "    </tr>\n",
       "  </thead>\n",
       "  <tbody>\n",
       "    <tr>\n",
       "      <th>Alabama A &amp; M University</th>\n",
       "      <td>0.03</td>\n",
       "      <td>0.94</td>\n",
       "      <td>0.01</td>\n",
       "      <td>0.00</td>\n",
       "      <td>0.00</td>\n",
       "      <td>0.0</td>\n",
       "      <td>0.00</td>\n",
       "      <td>0.01</td>\n",
       "      <td>0.01</td>\n",
       "    </tr>\n",
       "    <tr>\n",
       "      <th>University of Alabama at Birmingham</th>\n",
       "      <td>0.59</td>\n",
       "      <td>0.26</td>\n",
       "      <td>0.03</td>\n",
       "      <td>0.05</td>\n",
       "      <td>0.00</td>\n",
       "      <td>0.0</td>\n",
       "      <td>0.04</td>\n",
       "      <td>0.02</td>\n",
       "      <td>0.01</td>\n",
       "    </tr>\n",
       "    <tr>\n",
       "      <th>Amridge University</th>\n",
       "      <td>0.30</td>\n",
       "      <td>0.42</td>\n",
       "      <td>0.01</td>\n",
       "      <td>0.00</td>\n",
       "      <td>0.00</td>\n",
       "      <td>0.0</td>\n",
       "      <td>0.00</td>\n",
       "      <td>0.00</td>\n",
       "      <td>0.27</td>\n",
       "    </tr>\n",
       "    <tr>\n",
       "      <th>University of Alabama in Huntsville</th>\n",
       "      <td>0.70</td>\n",
       "      <td>0.13</td>\n",
       "      <td>0.04</td>\n",
       "      <td>0.04</td>\n",
       "      <td>0.01</td>\n",
       "      <td>0.0</td>\n",
       "      <td>0.02</td>\n",
       "      <td>0.03</td>\n",
       "      <td>0.04</td>\n",
       "    </tr>\n",
       "    <tr>\n",
       "      <th>Alabama State University</th>\n",
       "      <td>0.02</td>\n",
       "      <td>0.92</td>\n",
       "      <td>0.01</td>\n",
       "      <td>0.00</td>\n",
       "      <td>0.00</td>\n",
       "      <td>0.0</td>\n",
       "      <td>0.01</td>\n",
       "      <td>0.02</td>\n",
       "      <td>0.01</td>\n",
       "    </tr>\n",
       "  </tbody>\n",
       "</table>\n",
       "</div>"
      ],
      "text/plain": [
       "                                     UGDS_WHITE  UGDS_BLACK  UGDS_HISP  \\\n",
       "INSTNM                                                                   \n",
       "Alabama A & M University                   0.03        0.94       0.01   \n",
       "University of Alabama at Birmingham        0.59        0.26       0.03   \n",
       "Amridge University                         0.30        0.42       0.01   \n",
       "University of Alabama in Huntsville        0.70        0.13       0.04   \n",
       "Alabama State University                   0.02        0.92       0.01   \n",
       "\n",
       "                                     UGDS_ASIAN  UGDS_AIAN  UGDS_NHPI  \\\n",
       "INSTNM                                                                  \n",
       "Alabama A & M University                   0.00       0.00        0.0   \n",
       "University of Alabama at Birmingham        0.05       0.00        0.0   \n",
       "Amridge University                         0.00       0.00        0.0   \n",
       "University of Alabama in Huntsville        0.04       0.01        0.0   \n",
       "Alabama State University                   0.00       0.00        0.0   \n",
       "\n",
       "                                     UGDS_2MOR  UGDS_NRA  UGDS_UNKN  \n",
       "INSTNM                                                               \n",
       "Alabama A & M University                  0.00      0.01       0.01  \n",
       "University of Alabama at Birmingham       0.04      0.02       0.01  \n",
       "Amridge University                        0.00      0.00       0.27  \n",
       "University of Alabama in Huntsville       0.02      0.03       0.04  \n",
       "Alabama State University                  0.01      0.02       0.01  "
      ]
     },
     "execution_count": 27,
     "metadata": {},
     "output_type": "execute_result"
    }
   ],
   "source": [
    "college_ugds_op_round.head()"
   ]
  },
  {
   "cell_type": "code",
   "execution_count": 28,
   "id": "thick-nickname",
   "metadata": {},
   "outputs": [],
   "source": [
    "college_ugds_round = (college_ugds + 0.00001).round(2)"
   ]
  },
  {
   "cell_type": "code",
   "execution_count": 29,
   "id": "mighty-words",
   "metadata": {},
   "outputs": [
    {
     "data": {
      "text/html": [
       "<div>\n",
       "<style scoped>\n",
       "    .dataframe tbody tr th:only-of-type {\n",
       "        vertical-align: middle;\n",
       "    }\n",
       "\n",
       "    .dataframe tbody tr th {\n",
       "        vertical-align: top;\n",
       "    }\n",
       "\n",
       "    .dataframe thead th {\n",
       "        text-align: right;\n",
       "    }\n",
       "</style>\n",
       "<table border=\"1\" class=\"dataframe\">\n",
       "  <thead>\n",
       "    <tr style=\"text-align: right;\">\n",
       "      <th></th>\n",
       "      <th>UGDS_WHITE</th>\n",
       "      <th>UGDS_BLACK</th>\n",
       "      <th>UGDS_HISP</th>\n",
       "      <th>UGDS_ASIAN</th>\n",
       "      <th>UGDS_AIAN</th>\n",
       "      <th>UGDS_NHPI</th>\n",
       "      <th>UGDS_2MOR</th>\n",
       "      <th>UGDS_NRA</th>\n",
       "      <th>UGDS_UNKN</th>\n",
       "    </tr>\n",
       "    <tr>\n",
       "      <th>INSTNM</th>\n",
       "      <th></th>\n",
       "      <th></th>\n",
       "      <th></th>\n",
       "      <th></th>\n",
       "      <th></th>\n",
       "      <th></th>\n",
       "      <th></th>\n",
       "      <th></th>\n",
       "      <th></th>\n",
       "    </tr>\n",
       "  </thead>\n",
       "  <tbody>\n",
       "    <tr>\n",
       "      <th>Alabama A &amp; M University</th>\n",
       "      <td>0.03</td>\n",
       "      <td>0.94</td>\n",
       "      <td>0.01</td>\n",
       "      <td>0.00</td>\n",
       "      <td>0.00</td>\n",
       "      <td>0.0</td>\n",
       "      <td>0.00</td>\n",
       "      <td>0.01</td>\n",
       "      <td>0.01</td>\n",
       "    </tr>\n",
       "    <tr>\n",
       "      <th>University of Alabama at Birmingham</th>\n",
       "      <td>0.59</td>\n",
       "      <td>0.26</td>\n",
       "      <td>0.03</td>\n",
       "      <td>0.05</td>\n",
       "      <td>0.00</td>\n",
       "      <td>0.0</td>\n",
       "      <td>0.04</td>\n",
       "      <td>0.02</td>\n",
       "      <td>0.01</td>\n",
       "    </tr>\n",
       "    <tr>\n",
       "      <th>Amridge University</th>\n",
       "      <td>0.30</td>\n",
       "      <td>0.42</td>\n",
       "      <td>0.01</td>\n",
       "      <td>0.00</td>\n",
       "      <td>0.00</td>\n",
       "      <td>0.0</td>\n",
       "      <td>0.00</td>\n",
       "      <td>0.00</td>\n",
       "      <td>0.27</td>\n",
       "    </tr>\n",
       "    <tr>\n",
       "      <th>University of Alabama in Huntsville</th>\n",
       "      <td>0.70</td>\n",
       "      <td>0.13</td>\n",
       "      <td>0.04</td>\n",
       "      <td>0.04</td>\n",
       "      <td>0.01</td>\n",
       "      <td>0.0</td>\n",
       "      <td>0.02</td>\n",
       "      <td>0.03</td>\n",
       "      <td>0.04</td>\n",
       "    </tr>\n",
       "    <tr>\n",
       "      <th>Alabama State University</th>\n",
       "      <td>0.02</td>\n",
       "      <td>0.92</td>\n",
       "      <td>0.01</td>\n",
       "      <td>0.00</td>\n",
       "      <td>0.00</td>\n",
       "      <td>0.0</td>\n",
       "      <td>0.01</td>\n",
       "      <td>0.02</td>\n",
       "      <td>0.01</td>\n",
       "    </tr>\n",
       "    <tr>\n",
       "      <th>...</th>\n",
       "      <td>...</td>\n",
       "      <td>...</td>\n",
       "      <td>...</td>\n",
       "      <td>...</td>\n",
       "      <td>...</td>\n",
       "      <td>...</td>\n",
       "      <td>...</td>\n",
       "      <td>...</td>\n",
       "      <td>...</td>\n",
       "    </tr>\n",
       "    <tr>\n",
       "      <th>SAE Institute of Technology  San Francisco</th>\n",
       "      <td>NaN</td>\n",
       "      <td>NaN</td>\n",
       "      <td>NaN</td>\n",
       "      <td>NaN</td>\n",
       "      <td>NaN</td>\n",
       "      <td>NaN</td>\n",
       "      <td>NaN</td>\n",
       "      <td>NaN</td>\n",
       "      <td>NaN</td>\n",
       "    </tr>\n",
       "    <tr>\n",
       "      <th>Rasmussen College - Overland Park</th>\n",
       "      <td>NaN</td>\n",
       "      <td>NaN</td>\n",
       "      <td>NaN</td>\n",
       "      <td>NaN</td>\n",
       "      <td>NaN</td>\n",
       "      <td>NaN</td>\n",
       "      <td>NaN</td>\n",
       "      <td>NaN</td>\n",
       "      <td>NaN</td>\n",
       "    </tr>\n",
       "    <tr>\n",
       "      <th>National Personal Training Institute of Cleveland</th>\n",
       "      <td>NaN</td>\n",
       "      <td>NaN</td>\n",
       "      <td>NaN</td>\n",
       "      <td>NaN</td>\n",
       "      <td>NaN</td>\n",
       "      <td>NaN</td>\n",
       "      <td>NaN</td>\n",
       "      <td>NaN</td>\n",
       "      <td>NaN</td>\n",
       "    </tr>\n",
       "    <tr>\n",
       "      <th>Bay Area Medical Academy - San Jose Satellite Location</th>\n",
       "      <td>NaN</td>\n",
       "      <td>NaN</td>\n",
       "      <td>NaN</td>\n",
       "      <td>NaN</td>\n",
       "      <td>NaN</td>\n",
       "      <td>NaN</td>\n",
       "      <td>NaN</td>\n",
       "      <td>NaN</td>\n",
       "      <td>NaN</td>\n",
       "    </tr>\n",
       "    <tr>\n",
       "      <th>Excel Learning Center-San Antonio South</th>\n",
       "      <td>NaN</td>\n",
       "      <td>NaN</td>\n",
       "      <td>NaN</td>\n",
       "      <td>NaN</td>\n",
       "      <td>NaN</td>\n",
       "      <td>NaN</td>\n",
       "      <td>NaN</td>\n",
       "      <td>NaN</td>\n",
       "      <td>NaN</td>\n",
       "    </tr>\n",
       "  </tbody>\n",
       "</table>\n",
       "<p>7535 rows × 9 columns</p>\n",
       "</div>"
      ],
      "text/plain": [
       "                                                    UGDS_WHITE  UGDS_BLACK  \\\n",
       "INSTNM                                                                       \n",
       "Alabama A & M University                                  0.03        0.94   \n",
       "University of Alabama at Birmingham                       0.59        0.26   \n",
       "Amridge University                                        0.30        0.42   \n",
       "University of Alabama in Huntsville                       0.70        0.13   \n",
       "Alabama State University                                  0.02        0.92   \n",
       "...                                                        ...         ...   \n",
       "SAE Institute of Technology  San Francisco                 NaN         NaN   \n",
       "Rasmussen College - Overland Park                          NaN         NaN   \n",
       "National Personal Training Institute of Cleveland          NaN         NaN   \n",
       "Bay Area Medical Academy - San Jose Satellite L...         NaN         NaN   \n",
       "Excel Learning Center-San Antonio South                    NaN         NaN   \n",
       "\n",
       "                                                    UGDS_HISP  UGDS_ASIAN  \\\n",
       "INSTNM                                                                      \n",
       "Alabama A & M University                                 0.01        0.00   \n",
       "University of Alabama at Birmingham                      0.03        0.05   \n",
       "Amridge University                                       0.01        0.00   \n",
       "University of Alabama in Huntsville                      0.04        0.04   \n",
       "Alabama State University                                 0.01        0.00   \n",
       "...                                                       ...         ...   \n",
       "SAE Institute of Technology  San Francisco                NaN         NaN   \n",
       "Rasmussen College - Overland Park                         NaN         NaN   \n",
       "National Personal Training Institute of Cleveland         NaN         NaN   \n",
       "Bay Area Medical Academy - San Jose Satellite L...        NaN         NaN   \n",
       "Excel Learning Center-San Antonio South                   NaN         NaN   \n",
       "\n",
       "                                                    UGDS_AIAN  UGDS_NHPI  \\\n",
       "INSTNM                                                                     \n",
       "Alabama A & M University                                 0.00        0.0   \n",
       "University of Alabama at Birmingham                      0.00        0.0   \n",
       "Amridge University                                       0.00        0.0   \n",
       "University of Alabama in Huntsville                      0.01        0.0   \n",
       "Alabama State University                                 0.00        0.0   \n",
       "...                                                       ...        ...   \n",
       "SAE Institute of Technology  San Francisco                NaN        NaN   \n",
       "Rasmussen College - Overland Park                         NaN        NaN   \n",
       "National Personal Training Institute of Cleveland         NaN        NaN   \n",
       "Bay Area Medical Academy - San Jose Satellite L...        NaN        NaN   \n",
       "Excel Learning Center-San Antonio South                   NaN        NaN   \n",
       "\n",
       "                                                    UGDS_2MOR  UGDS_NRA  \\\n",
       "INSTNM                                                                    \n",
       "Alabama A & M University                                 0.00      0.01   \n",
       "University of Alabama at Birmingham                      0.04      0.02   \n",
       "Amridge University                                       0.00      0.00   \n",
       "University of Alabama in Huntsville                      0.02      0.03   \n",
       "Alabama State University                                 0.01      0.02   \n",
       "...                                                       ...       ...   \n",
       "SAE Institute of Technology  San Francisco                NaN       NaN   \n",
       "Rasmussen College - Overland Park                         NaN       NaN   \n",
       "National Personal Training Institute of Cleveland         NaN       NaN   \n",
       "Bay Area Medical Academy - San Jose Satellite L...        NaN       NaN   \n",
       "Excel Learning Center-San Antonio South                   NaN       NaN   \n",
       "\n",
       "                                                    UGDS_UNKN  \n",
       "INSTNM                                                         \n",
       "Alabama A & M University                                 0.01  \n",
       "University of Alabama at Birmingham                      0.01  \n",
       "Amridge University                                       0.27  \n",
       "University of Alabama in Huntsville                      0.04  \n",
       "Alabama State University                                 0.01  \n",
       "...                                                       ...  \n",
       "SAE Institute of Technology  San Francisco                NaN  \n",
       "Rasmussen College - Overland Park                         NaN  \n",
       "National Personal Training Institute of Cleveland         NaN  \n",
       "Bay Area Medical Academy - San Jose Satellite L...        NaN  \n",
       "Excel Learning Center-San Antonio South                   NaN  \n",
       "\n",
       "[7535 rows x 9 columns]"
      ]
     },
     "execution_count": 29,
     "metadata": {},
     "output_type": "execute_result"
    }
   ],
   "source": [
    "college_ugds_round"
   ]
  },
  {
   "cell_type": "code",
   "execution_count": 30,
   "id": "blond-quebec",
   "metadata": {},
   "outputs": [
    {
     "data": {
      "text/plain": [
       "True"
      ]
     },
     "execution_count": 30,
     "metadata": {},
     "output_type": "execute_result"
    }
   ],
   "source": [
    "college_ugds_op_round.equals(college_ugds_round)"
   ]
  },
  {
   "cell_type": "code",
   "execution_count": 32,
   "id": "prostate-concentration",
   "metadata": {},
   "outputs": [
    {
     "data": {
      "text/plain": [
       "0.05001"
      ]
     },
     "execution_count": 32,
     "metadata": {},
     "output_type": "execute_result"
    }
   ],
   "source": [
    "0.045 + 0.005 + 0.00001"
   ]
  },
  {
   "cell_type": "code",
   "execution_count": 34,
   "id": "satisfied-vienna",
   "metadata": {},
   "outputs": [],
   "source": [
    "college2 = (\n",
    "    college_ugds.add(0.00501).floordiv(0.01).div(100)\n",
    ")"
   ]
  },
  {
   "cell_type": "code",
   "execution_count": 35,
   "id": "iraqi-joshua",
   "metadata": {},
   "outputs": [
    {
     "data": {
      "text/plain": [
       "True"
      ]
     },
     "execution_count": 35,
     "metadata": {},
     "output_type": "execute_result"
    }
   ],
   "source": [
    "college2.equals(college_ugds_op_round)"
   ]
  },
  {
   "cell_type": "code",
   "execution_count": 36,
   "id": "pending-portland",
   "metadata": {},
   "outputs": [
    {
     "data": {
      "text/plain": [
       "False"
      ]
     },
     "execution_count": 36,
     "metadata": {},
     "output_type": "execute_result"
    }
   ],
   "source": [
    "np.nan == np.nan"
   ]
  },
  {
   "cell_type": "code",
   "execution_count": 37,
   "id": "surgical-adrian",
   "metadata": {},
   "outputs": [
    {
     "data": {
      "text/plain": [
       "True"
      ]
     },
     "execution_count": 37,
     "metadata": {},
     "output_type": "execute_result"
    }
   ],
   "source": [
    "None == None"
   ]
  },
  {
   "cell_type": "code",
   "execution_count": 38,
   "id": "listed-republican",
   "metadata": {},
   "outputs": [
    {
     "data": {
      "text/plain": [
       "False"
      ]
     },
     "execution_count": 38,
     "metadata": {},
     "output_type": "execute_result"
    }
   ],
   "source": [
    "np.nan > 5"
   ]
  },
  {
   "cell_type": "code",
   "execution_count": 39,
   "id": "perfect-campaign",
   "metadata": {},
   "outputs": [
    {
     "data": {
      "text/plain": [
       "False"
      ]
     },
     "execution_count": 39,
     "metadata": {},
     "output_type": "execute_result"
    }
   ],
   "source": [
    "5 > np.nan"
   ]
  },
  {
   "cell_type": "code",
   "execution_count": 40,
   "id": "alert-season",
   "metadata": {},
   "outputs": [
    {
     "data": {
      "text/plain": [
       "True"
      ]
     },
     "execution_count": 40,
     "metadata": {},
     "output_type": "execute_result"
    }
   ],
   "source": [
    "np.nan != 5"
   ]
  },
  {
   "cell_type": "code",
   "execution_count": 42,
   "id": "right-culture",
   "metadata": {},
   "outputs": [],
   "source": [
    "college = pd.read_csv(\n",
    "    \"college.csv\",\n",
    "    index_col=\"INSTNM\"\n",
    ")"
   ]
  },
  {
   "cell_type": "code",
   "execution_count": 43,
   "id": "settled-council",
   "metadata": {},
   "outputs": [],
   "source": [
    "college_ugds = college.filter(like=\"UGDS_\")"
   ]
  },
  {
   "cell_type": "code",
   "execution_count": 46,
   "id": "hairy-supplement",
   "metadata": {},
   "outputs": [
    {
     "data": {
      "text/html": [
       "<div>\n",
       "<style scoped>\n",
       "    .dataframe tbody tr th:only-of-type {\n",
       "        vertical-align: middle;\n",
       "    }\n",
       "\n",
       "    .dataframe tbody tr th {\n",
       "        vertical-align: top;\n",
       "    }\n",
       "\n",
       "    .dataframe thead th {\n",
       "        text-align: right;\n",
       "    }\n",
       "</style>\n",
       "<table border=\"1\" class=\"dataframe\">\n",
       "  <thead>\n",
       "    <tr style=\"text-align: right;\">\n",
       "      <th></th>\n",
       "      <th>UGDS_WHITE</th>\n",
       "      <th>UGDS_BLACK</th>\n",
       "      <th>UGDS_HISP</th>\n",
       "      <th>UGDS_ASIAN</th>\n",
       "      <th>UGDS_AIAN</th>\n",
       "      <th>UGDS_NHPI</th>\n",
       "      <th>UGDS_2MOR</th>\n",
       "      <th>UGDS_NRA</th>\n",
       "      <th>UGDS_UNKN</th>\n",
       "    </tr>\n",
       "    <tr>\n",
       "      <th>INSTNM</th>\n",
       "      <th></th>\n",
       "      <th></th>\n",
       "      <th></th>\n",
       "      <th></th>\n",
       "      <th></th>\n",
       "      <th></th>\n",
       "      <th></th>\n",
       "      <th></th>\n",
       "      <th></th>\n",
       "    </tr>\n",
       "  </thead>\n",
       "  <tbody>\n",
       "    <tr>\n",
       "      <th>Alabama A &amp; M University</th>\n",
       "      <td>False</td>\n",
       "      <td>False</td>\n",
       "      <td>False</td>\n",
       "      <td>True</td>\n",
       "      <td>False</td>\n",
       "      <td>True</td>\n",
       "      <td>False</td>\n",
       "      <td>False</td>\n",
       "      <td>False</td>\n",
       "    </tr>\n",
       "    <tr>\n",
       "      <th>University of Alabama at Birmingham</th>\n",
       "      <td>False</td>\n",
       "      <td>False</td>\n",
       "      <td>False</td>\n",
       "      <td>False</td>\n",
       "      <td>False</td>\n",
       "      <td>False</td>\n",
       "      <td>False</td>\n",
       "      <td>False</td>\n",
       "      <td>False</td>\n",
       "    </tr>\n",
       "    <tr>\n",
       "      <th>Amridge University</th>\n",
       "      <td>False</td>\n",
       "      <td>False</td>\n",
       "      <td>False</td>\n",
       "      <td>False</td>\n",
       "      <td>False</td>\n",
       "      <td>False</td>\n",
       "      <td>False</td>\n",
       "      <td>False</td>\n",
       "      <td>False</td>\n",
       "    </tr>\n",
       "    <tr>\n",
       "      <th>University of Alabama in Huntsville</th>\n",
       "      <td>False</td>\n",
       "      <td>False</td>\n",
       "      <td>False</td>\n",
       "      <td>False</td>\n",
       "      <td>False</td>\n",
       "      <td>False</td>\n",
       "      <td>False</td>\n",
       "      <td>False</td>\n",
       "      <td>False</td>\n",
       "    </tr>\n",
       "    <tr>\n",
       "      <th>Alabama State University</th>\n",
       "      <td>False</td>\n",
       "      <td>False</td>\n",
       "      <td>False</td>\n",
       "      <td>True</td>\n",
       "      <td>False</td>\n",
       "      <td>False</td>\n",
       "      <td>False</td>\n",
       "      <td>False</td>\n",
       "      <td>False</td>\n",
       "    </tr>\n",
       "    <tr>\n",
       "      <th>...</th>\n",
       "      <td>...</td>\n",
       "      <td>...</td>\n",
       "      <td>...</td>\n",
       "      <td>...</td>\n",
       "      <td>...</td>\n",
       "      <td>...</td>\n",
       "      <td>...</td>\n",
       "      <td>...</td>\n",
       "      <td>...</td>\n",
       "    </tr>\n",
       "    <tr>\n",
       "      <th>SAE Institute of Technology  San Francisco</th>\n",
       "      <td>False</td>\n",
       "      <td>False</td>\n",
       "      <td>False</td>\n",
       "      <td>False</td>\n",
       "      <td>False</td>\n",
       "      <td>False</td>\n",
       "      <td>False</td>\n",
       "      <td>False</td>\n",
       "      <td>False</td>\n",
       "    </tr>\n",
       "    <tr>\n",
       "      <th>Rasmussen College - Overland Park</th>\n",
       "      <td>False</td>\n",
       "      <td>False</td>\n",
       "      <td>False</td>\n",
       "      <td>False</td>\n",
       "      <td>False</td>\n",
       "      <td>False</td>\n",
       "      <td>False</td>\n",
       "      <td>False</td>\n",
       "      <td>False</td>\n",
       "    </tr>\n",
       "    <tr>\n",
       "      <th>National Personal Training Institute of Cleveland</th>\n",
       "      <td>False</td>\n",
       "      <td>False</td>\n",
       "      <td>False</td>\n",
       "      <td>False</td>\n",
       "      <td>False</td>\n",
       "      <td>False</td>\n",
       "      <td>False</td>\n",
       "      <td>False</td>\n",
       "      <td>False</td>\n",
       "    </tr>\n",
       "    <tr>\n",
       "      <th>Bay Area Medical Academy - San Jose Satellite Location</th>\n",
       "      <td>False</td>\n",
       "      <td>False</td>\n",
       "      <td>False</td>\n",
       "      <td>False</td>\n",
       "      <td>False</td>\n",
       "      <td>False</td>\n",
       "      <td>False</td>\n",
       "      <td>False</td>\n",
       "      <td>False</td>\n",
       "    </tr>\n",
       "    <tr>\n",
       "      <th>Excel Learning Center-San Antonio South</th>\n",
       "      <td>False</td>\n",
       "      <td>False</td>\n",
       "      <td>False</td>\n",
       "      <td>False</td>\n",
       "      <td>False</td>\n",
       "      <td>False</td>\n",
       "      <td>False</td>\n",
       "      <td>False</td>\n",
       "      <td>False</td>\n",
       "    </tr>\n",
       "  </tbody>\n",
       "</table>\n",
       "<p>7535 rows × 9 columns</p>\n",
       "</div>"
      ],
      "text/plain": [
       "                                                    UGDS_WHITE  UGDS_BLACK  \\\n",
       "INSTNM                                                                       \n",
       "Alabama A & M University                                 False       False   \n",
       "University of Alabama at Birmingham                      False       False   \n",
       "Amridge University                                       False       False   \n",
       "University of Alabama in Huntsville                      False       False   \n",
       "Alabama State University                                 False       False   \n",
       "...                                                        ...         ...   \n",
       "SAE Institute of Technology  San Francisco               False       False   \n",
       "Rasmussen College - Overland Park                        False       False   \n",
       "National Personal Training Institute of Cleveland        False       False   \n",
       "Bay Area Medical Academy - San Jose Satellite L...       False       False   \n",
       "Excel Learning Center-San Antonio South                  False       False   \n",
       "\n",
       "                                                    UGDS_HISP  UGDS_ASIAN  \\\n",
       "INSTNM                                                                      \n",
       "Alabama A & M University                                False        True   \n",
       "University of Alabama at Birmingham                     False       False   \n",
       "Amridge University                                      False       False   \n",
       "University of Alabama in Huntsville                     False       False   \n",
       "Alabama State University                                False        True   \n",
       "...                                                       ...         ...   \n",
       "SAE Institute of Technology  San Francisco              False       False   \n",
       "Rasmussen College - Overland Park                       False       False   \n",
       "National Personal Training Institute of Cleveland       False       False   \n",
       "Bay Area Medical Academy - San Jose Satellite L...      False       False   \n",
       "Excel Learning Center-San Antonio South                 False       False   \n",
       "\n",
       "                                                    UGDS_AIAN  UGDS_NHPI  \\\n",
       "INSTNM                                                                     \n",
       "Alabama A & M University                                False       True   \n",
       "University of Alabama at Birmingham                     False      False   \n",
       "Amridge University                                      False      False   \n",
       "University of Alabama in Huntsville                     False      False   \n",
       "Alabama State University                                False      False   \n",
       "...                                                       ...        ...   \n",
       "SAE Institute of Technology  San Francisco              False      False   \n",
       "Rasmussen College - Overland Park                       False      False   \n",
       "National Personal Training Institute of Cleveland       False      False   \n",
       "Bay Area Medical Academy - San Jose Satellite L...      False      False   \n",
       "Excel Learning Center-San Antonio South                 False      False   \n",
       "\n",
       "                                                    UGDS_2MOR  UGDS_NRA  \\\n",
       "INSTNM                                                                    \n",
       "Alabama A & M University                                False     False   \n",
       "University of Alabama at Birmingham                     False     False   \n",
       "Amridge University                                      False     False   \n",
       "University of Alabama in Huntsville                     False     False   \n",
       "Alabama State University                                False     False   \n",
       "...                                                       ...       ...   \n",
       "SAE Institute of Technology  San Francisco              False     False   \n",
       "Rasmussen College - Overland Park                       False     False   \n",
       "National Personal Training Institute of Cleveland       False     False   \n",
       "Bay Area Medical Academy - San Jose Satellite L...      False     False   \n",
       "Excel Learning Center-San Antonio South                 False     False   \n",
       "\n",
       "                                                    UGDS_UNKN  \n",
       "INSTNM                                                         \n",
       "Alabama A & M University                                False  \n",
       "University of Alabama at Birmingham                     False  \n",
       "Amridge University                                      False  \n",
       "University of Alabama in Huntsville                     False  \n",
       "Alabama State University                                False  \n",
       "...                                                       ...  \n",
       "SAE Institute of Technology  San Francisco              False  \n",
       "Rasmussen College - Overland Park                       False  \n",
       "National Personal Training Institute of Cleveland       False  \n",
       "Bay Area Medical Academy - San Jose Satellite L...      False  \n",
       "Excel Learning Center-San Antonio South                 False  \n",
       "\n",
       "[7535 rows x 9 columns]"
      ]
     },
     "execution_count": 46,
     "metadata": {},
     "output_type": "execute_result"
    }
   ],
   "source": [
    "college_ugds == 0.0019"
   ]
  },
  {
   "cell_type": "code",
   "execution_count": 47,
   "id": "wrong-postage",
   "metadata": {},
   "outputs": [],
   "source": [
    "college_self_compare = college_ugds == college_ugds"
   ]
  },
  {
   "cell_type": "code",
   "execution_count": 48,
   "id": "romance-tunisia",
   "metadata": {},
   "outputs": [
    {
     "data": {
      "text/html": [
       "<div>\n",
       "<style scoped>\n",
       "    .dataframe tbody tr th:only-of-type {\n",
       "        vertical-align: middle;\n",
       "    }\n",
       "\n",
       "    .dataframe tbody tr th {\n",
       "        vertical-align: top;\n",
       "    }\n",
       "\n",
       "    .dataframe thead th {\n",
       "        text-align: right;\n",
       "    }\n",
       "</style>\n",
       "<table border=\"1\" class=\"dataframe\">\n",
       "  <thead>\n",
       "    <tr style=\"text-align: right;\">\n",
       "      <th></th>\n",
       "      <th>UGDS_WHITE</th>\n",
       "      <th>UGDS_BLACK</th>\n",
       "      <th>UGDS_HISP</th>\n",
       "      <th>UGDS_ASIAN</th>\n",
       "      <th>UGDS_AIAN</th>\n",
       "      <th>UGDS_NHPI</th>\n",
       "      <th>UGDS_2MOR</th>\n",
       "      <th>UGDS_NRA</th>\n",
       "      <th>UGDS_UNKN</th>\n",
       "    </tr>\n",
       "    <tr>\n",
       "      <th>INSTNM</th>\n",
       "      <th></th>\n",
       "      <th></th>\n",
       "      <th></th>\n",
       "      <th></th>\n",
       "      <th></th>\n",
       "      <th></th>\n",
       "      <th></th>\n",
       "      <th></th>\n",
       "      <th></th>\n",
       "    </tr>\n",
       "  </thead>\n",
       "  <tbody>\n",
       "    <tr>\n",
       "      <th>Alabama A &amp; M University</th>\n",
       "      <td>True</td>\n",
       "      <td>True</td>\n",
       "      <td>True</td>\n",
       "      <td>True</td>\n",
       "      <td>True</td>\n",
       "      <td>True</td>\n",
       "      <td>True</td>\n",
       "      <td>True</td>\n",
       "      <td>True</td>\n",
       "    </tr>\n",
       "    <tr>\n",
       "      <th>University of Alabama at Birmingham</th>\n",
       "      <td>True</td>\n",
       "      <td>True</td>\n",
       "      <td>True</td>\n",
       "      <td>True</td>\n",
       "      <td>True</td>\n",
       "      <td>True</td>\n",
       "      <td>True</td>\n",
       "      <td>True</td>\n",
       "      <td>True</td>\n",
       "    </tr>\n",
       "    <tr>\n",
       "      <th>Amridge University</th>\n",
       "      <td>True</td>\n",
       "      <td>True</td>\n",
       "      <td>True</td>\n",
       "      <td>True</td>\n",
       "      <td>True</td>\n",
       "      <td>True</td>\n",
       "      <td>True</td>\n",
       "      <td>True</td>\n",
       "      <td>True</td>\n",
       "    </tr>\n",
       "    <tr>\n",
       "      <th>University of Alabama in Huntsville</th>\n",
       "      <td>True</td>\n",
       "      <td>True</td>\n",
       "      <td>True</td>\n",
       "      <td>True</td>\n",
       "      <td>True</td>\n",
       "      <td>True</td>\n",
       "      <td>True</td>\n",
       "      <td>True</td>\n",
       "      <td>True</td>\n",
       "    </tr>\n",
       "    <tr>\n",
       "      <th>Alabama State University</th>\n",
       "      <td>True</td>\n",
       "      <td>True</td>\n",
       "      <td>True</td>\n",
       "      <td>True</td>\n",
       "      <td>True</td>\n",
       "      <td>True</td>\n",
       "      <td>True</td>\n",
       "      <td>True</td>\n",
       "      <td>True</td>\n",
       "    </tr>\n",
       "  </tbody>\n",
       "</table>\n",
       "</div>"
      ],
      "text/plain": [
       "                                     UGDS_WHITE  UGDS_BLACK  UGDS_HISP  \\\n",
       "INSTNM                                                                   \n",
       "Alabama A & M University                   True        True       True   \n",
       "University of Alabama at Birmingham        True        True       True   \n",
       "Amridge University                         True        True       True   \n",
       "University of Alabama in Huntsville        True        True       True   \n",
       "Alabama State University                   True        True       True   \n",
       "\n",
       "                                     UGDS_ASIAN  UGDS_AIAN  UGDS_NHPI  \\\n",
       "INSTNM                                                                  \n",
       "Alabama A & M University                   True       True       True   \n",
       "University of Alabama at Birmingham        True       True       True   \n",
       "Amridge University                         True       True       True   \n",
       "University of Alabama in Huntsville        True       True       True   \n",
       "Alabama State University                   True       True       True   \n",
       "\n",
       "                                     UGDS_2MOR  UGDS_NRA  UGDS_UNKN  \n",
       "INSTNM                                                               \n",
       "Alabama A & M University                  True      True       True  \n",
       "University of Alabama at Birmingham       True      True       True  \n",
       "Amridge University                        True      True       True  \n",
       "University of Alabama in Huntsville       True      True       True  \n",
       "Alabama State University                  True      True       True  "
      ]
     },
     "execution_count": 48,
     "metadata": {},
     "output_type": "execute_result"
    }
   ],
   "source": [
    "college_self_compare.head()"
   ]
  },
  {
   "cell_type": "code",
   "execution_count": 49,
   "id": "given-mobile",
   "metadata": {},
   "outputs": [
    {
     "data": {
      "text/plain": [
       "UGDS_WHITE    False\n",
       "UGDS_BLACK    False\n",
       "UGDS_HISP     False\n",
       "UGDS_ASIAN    False\n",
       "UGDS_AIAN     False\n",
       "UGDS_NHPI     False\n",
       "UGDS_2MOR     False\n",
       "UGDS_NRA      False\n",
       "UGDS_UNKN     False\n",
       "dtype: bool"
      ]
     },
     "execution_count": 49,
     "metadata": {},
     "output_type": "execute_result"
    }
   ],
   "source": [
    "college_self_compare.all()"
   ]
  },
  {
   "cell_type": "code",
   "execution_count": 50,
   "id": "incident-detector",
   "metadata": {},
   "outputs": [
    {
     "data": {
      "text/plain": [
       "UGDS_WHITE    0\n",
       "UGDS_BLACK    0\n",
       "UGDS_HISP     0\n",
       "UGDS_ASIAN    0\n",
       "UGDS_AIAN     0\n",
       "UGDS_NHPI     0\n",
       "UGDS_2MOR     0\n",
       "UGDS_NRA      0\n",
       "UGDS_UNKN     0\n",
       "dtype: int64"
      ]
     },
     "execution_count": 50,
     "metadata": {},
     "output_type": "execute_result"
    }
   ],
   "source": [
    "(college_ugds == np.nan).sum()"
   ]
  },
  {
   "cell_type": "code",
   "execution_count": 51,
   "id": "contrary-commissioner",
   "metadata": {},
   "outputs": [
    {
     "data": {
      "text/plain": [
       "UGDS_WHITE    661\n",
       "UGDS_BLACK    661\n",
       "UGDS_HISP     661\n",
       "UGDS_ASIAN    661\n",
       "UGDS_AIAN     661\n",
       "UGDS_NHPI     661\n",
       "UGDS_2MOR     661\n",
       "UGDS_NRA      661\n",
       "UGDS_UNKN     661\n",
       "dtype: int64"
      ]
     },
     "execution_count": 51,
     "metadata": {},
     "output_type": "execute_result"
    }
   ],
   "source": [
    "college_ugds.isna().sum()"
   ]
  },
  {
   "cell_type": "code",
   "execution_count": 52,
   "id": "duplicate-plasma",
   "metadata": {},
   "outputs": [
    {
     "data": {
      "text/plain": [
       "True"
      ]
     },
     "execution_count": 52,
     "metadata": {},
     "output_type": "execute_result"
    }
   ],
   "source": [
    "college_ugds.equals(college_ugds)"
   ]
  },
  {
   "cell_type": "code",
   "execution_count": 53,
   "id": "advised-pendant",
   "metadata": {},
   "outputs": [
    {
     "data": {
      "text/html": [
       "<div>\n",
       "<style scoped>\n",
       "    .dataframe tbody tr th:only-of-type {\n",
       "        vertical-align: middle;\n",
       "    }\n",
       "\n",
       "    .dataframe tbody tr th {\n",
       "        vertical-align: top;\n",
       "    }\n",
       "\n",
       "    .dataframe thead th {\n",
       "        text-align: right;\n",
       "    }\n",
       "</style>\n",
       "<table border=\"1\" class=\"dataframe\">\n",
       "  <thead>\n",
       "    <tr style=\"text-align: right;\">\n",
       "      <th></th>\n",
       "      <th>UGDS_WHITE</th>\n",
       "      <th>UGDS_BLACK</th>\n",
       "      <th>UGDS_HISP</th>\n",
       "      <th>UGDS_ASIAN</th>\n",
       "      <th>UGDS_AIAN</th>\n",
       "      <th>UGDS_NHPI</th>\n",
       "      <th>UGDS_2MOR</th>\n",
       "      <th>UGDS_NRA</th>\n",
       "      <th>UGDS_UNKN</th>\n",
       "    </tr>\n",
       "    <tr>\n",
       "      <th>INSTNM</th>\n",
       "      <th></th>\n",
       "      <th></th>\n",
       "      <th></th>\n",
       "      <th></th>\n",
       "      <th></th>\n",
       "      <th></th>\n",
       "      <th></th>\n",
       "      <th></th>\n",
       "      <th></th>\n",
       "    </tr>\n",
       "  </thead>\n",
       "  <tbody>\n",
       "    <tr>\n",
       "      <th>Alabama A &amp; M University</th>\n",
       "      <td>False</td>\n",
       "      <td>False</td>\n",
       "      <td>False</td>\n",
       "      <td>True</td>\n",
       "      <td>False</td>\n",
       "      <td>True</td>\n",
       "      <td>False</td>\n",
       "      <td>False</td>\n",
       "      <td>False</td>\n",
       "    </tr>\n",
       "    <tr>\n",
       "      <th>University of Alabama at Birmingham</th>\n",
       "      <td>False</td>\n",
       "      <td>False</td>\n",
       "      <td>False</td>\n",
       "      <td>False</td>\n",
       "      <td>False</td>\n",
       "      <td>False</td>\n",
       "      <td>False</td>\n",
       "      <td>False</td>\n",
       "      <td>False</td>\n",
       "    </tr>\n",
       "    <tr>\n",
       "      <th>Amridge University</th>\n",
       "      <td>False</td>\n",
       "      <td>False</td>\n",
       "      <td>False</td>\n",
       "      <td>False</td>\n",
       "      <td>False</td>\n",
       "      <td>False</td>\n",
       "      <td>False</td>\n",
       "      <td>False</td>\n",
       "      <td>False</td>\n",
       "    </tr>\n",
       "    <tr>\n",
       "      <th>University of Alabama in Huntsville</th>\n",
       "      <td>False</td>\n",
       "      <td>False</td>\n",
       "      <td>False</td>\n",
       "      <td>False</td>\n",
       "      <td>False</td>\n",
       "      <td>False</td>\n",
       "      <td>False</td>\n",
       "      <td>False</td>\n",
       "      <td>False</td>\n",
       "    </tr>\n",
       "    <tr>\n",
       "      <th>Alabama State University</th>\n",
       "      <td>False</td>\n",
       "      <td>False</td>\n",
       "      <td>False</td>\n",
       "      <td>True</td>\n",
       "      <td>False</td>\n",
       "      <td>False</td>\n",
       "      <td>False</td>\n",
       "      <td>False</td>\n",
       "      <td>False</td>\n",
       "    </tr>\n",
       "    <tr>\n",
       "      <th>...</th>\n",
       "      <td>...</td>\n",
       "      <td>...</td>\n",
       "      <td>...</td>\n",
       "      <td>...</td>\n",
       "      <td>...</td>\n",
       "      <td>...</td>\n",
       "      <td>...</td>\n",
       "      <td>...</td>\n",
       "      <td>...</td>\n",
       "    </tr>\n",
       "    <tr>\n",
       "      <th>SAE Institute of Technology  San Francisco</th>\n",
       "      <td>False</td>\n",
       "      <td>False</td>\n",
       "      <td>False</td>\n",
       "      <td>False</td>\n",
       "      <td>False</td>\n",
       "      <td>False</td>\n",
       "      <td>False</td>\n",
       "      <td>False</td>\n",
       "      <td>False</td>\n",
       "    </tr>\n",
       "    <tr>\n",
       "      <th>Rasmussen College - Overland Park</th>\n",
       "      <td>False</td>\n",
       "      <td>False</td>\n",
       "      <td>False</td>\n",
       "      <td>False</td>\n",
       "      <td>False</td>\n",
       "      <td>False</td>\n",
       "      <td>False</td>\n",
       "      <td>False</td>\n",
       "      <td>False</td>\n",
       "    </tr>\n",
       "    <tr>\n",
       "      <th>National Personal Training Institute of Cleveland</th>\n",
       "      <td>False</td>\n",
       "      <td>False</td>\n",
       "      <td>False</td>\n",
       "      <td>False</td>\n",
       "      <td>False</td>\n",
       "      <td>False</td>\n",
       "      <td>False</td>\n",
       "      <td>False</td>\n",
       "      <td>False</td>\n",
       "    </tr>\n",
       "    <tr>\n",
       "      <th>Bay Area Medical Academy - San Jose Satellite Location</th>\n",
       "      <td>False</td>\n",
       "      <td>False</td>\n",
       "      <td>False</td>\n",
       "      <td>False</td>\n",
       "      <td>False</td>\n",
       "      <td>False</td>\n",
       "      <td>False</td>\n",
       "      <td>False</td>\n",
       "      <td>False</td>\n",
       "    </tr>\n",
       "    <tr>\n",
       "      <th>Excel Learning Center-San Antonio South</th>\n",
       "      <td>False</td>\n",
       "      <td>False</td>\n",
       "      <td>False</td>\n",
       "      <td>False</td>\n",
       "      <td>False</td>\n",
       "      <td>False</td>\n",
       "      <td>False</td>\n",
       "      <td>False</td>\n",
       "      <td>False</td>\n",
       "    </tr>\n",
       "  </tbody>\n",
       "</table>\n",
       "<p>7535 rows × 9 columns</p>\n",
       "</div>"
      ],
      "text/plain": [
       "                                                    UGDS_WHITE  UGDS_BLACK  \\\n",
       "INSTNM                                                                       \n",
       "Alabama A & M University                                 False       False   \n",
       "University of Alabama at Birmingham                      False       False   \n",
       "Amridge University                                       False       False   \n",
       "University of Alabama in Huntsville                      False       False   \n",
       "Alabama State University                                 False       False   \n",
       "...                                                        ...         ...   \n",
       "SAE Institute of Technology  San Francisco               False       False   \n",
       "Rasmussen College - Overland Park                        False       False   \n",
       "National Personal Training Institute of Cleveland        False       False   \n",
       "Bay Area Medical Academy - San Jose Satellite L...       False       False   \n",
       "Excel Learning Center-San Antonio South                  False       False   \n",
       "\n",
       "                                                    UGDS_HISP  UGDS_ASIAN  \\\n",
       "INSTNM                                                                      \n",
       "Alabama A & M University                                False        True   \n",
       "University of Alabama at Birmingham                     False       False   \n",
       "Amridge University                                      False       False   \n",
       "University of Alabama in Huntsville                     False       False   \n",
       "Alabama State University                                False        True   \n",
       "...                                                       ...         ...   \n",
       "SAE Institute of Technology  San Francisco              False       False   \n",
       "Rasmussen College - Overland Park                       False       False   \n",
       "National Personal Training Institute of Cleveland       False       False   \n",
       "Bay Area Medical Academy - San Jose Satellite L...      False       False   \n",
       "Excel Learning Center-San Antonio South                 False       False   \n",
       "\n",
       "                                                    UGDS_AIAN  UGDS_NHPI  \\\n",
       "INSTNM                                                                     \n",
       "Alabama A & M University                                False       True   \n",
       "University of Alabama at Birmingham                     False      False   \n",
       "Amridge University                                      False      False   \n",
       "University of Alabama in Huntsville                     False      False   \n",
       "Alabama State University                                False      False   \n",
       "...                                                       ...        ...   \n",
       "SAE Institute of Technology  San Francisco              False      False   \n",
       "Rasmussen College - Overland Park                       False      False   \n",
       "National Personal Training Institute of Cleveland       False      False   \n",
       "Bay Area Medical Academy - San Jose Satellite L...      False      False   \n",
       "Excel Learning Center-San Antonio South                 False      False   \n",
       "\n",
       "                                                    UGDS_2MOR  UGDS_NRA  \\\n",
       "INSTNM                                                                    \n",
       "Alabama A & M University                                False     False   \n",
       "University of Alabama at Birmingham                     False     False   \n",
       "Amridge University                                      False     False   \n",
       "University of Alabama in Huntsville                     False     False   \n",
       "Alabama State University                                False     False   \n",
       "...                                                       ...       ...   \n",
       "SAE Institute of Technology  San Francisco              False     False   \n",
       "Rasmussen College - Overland Park                       False     False   \n",
       "National Personal Training Institute of Cleveland       False     False   \n",
       "Bay Area Medical Academy - San Jose Satellite L...      False     False   \n",
       "Excel Learning Center-San Antonio South                 False     False   \n",
       "\n",
       "                                                    UGDS_UNKN  \n",
       "INSTNM                                                         \n",
       "Alabama A & M University                                False  \n",
       "University of Alabama at Birmingham                     False  \n",
       "Amridge University                                      False  \n",
       "University of Alabama in Huntsville                     False  \n",
       "Alabama State University                                False  \n",
       "...                                                       ...  \n",
       "SAE Institute of Technology  San Francisco              False  \n",
       "Rasmussen College - Overland Park                       False  \n",
       "National Personal Training Institute of Cleveland       False  \n",
       "Bay Area Medical Academy - San Jose Satellite L...      False  \n",
       "Excel Learning Center-San Antonio South                 False  \n",
       "\n",
       "[7535 rows x 9 columns]"
      ]
     },
     "execution_count": 53,
     "metadata": {},
     "output_type": "execute_result"
    }
   ],
   "source": [
    "college_ugds.eq(0.0019)"
   ]
  },
  {
   "cell_type": "code",
   "execution_count": 54,
   "id": "acknowledged-firmware",
   "metadata": {},
   "outputs": [],
   "source": [
    "from pandas.testing import assert_frame_equal"
   ]
  },
  {
   "cell_type": "code",
   "execution_count": 55,
   "id": "moving-sigma",
   "metadata": {},
   "outputs": [
    {
     "data": {
      "text/plain": [
       "True"
      ]
     },
     "execution_count": 55,
     "metadata": {},
     "output_type": "execute_result"
    }
   ],
   "source": [
    "assert_frame_equal(college_ugds, college_ugds) is None"
   ]
  },
  {
   "cell_type": "code",
   "execution_count": 57,
   "id": "dutch-edwards",
   "metadata": {},
   "outputs": [],
   "source": [
    "college = pd.read_csv(\"college.csv\", index_col=\"INSTNM\")"
   ]
  },
  {
   "cell_type": "code",
   "execution_count": 58,
   "id": "accompanied-heather",
   "metadata": {},
   "outputs": [],
   "source": [
    "college_ugds = college.filter(like=\"UGDS_\")"
   ]
  },
  {
   "cell_type": "code",
   "execution_count": 59,
   "id": "delayed-overview",
   "metadata": {},
   "outputs": [
    {
     "data": {
      "text/html": [
       "<div>\n",
       "<style scoped>\n",
       "    .dataframe tbody tr th:only-of-type {\n",
       "        vertical-align: middle;\n",
       "    }\n",
       "\n",
       "    .dataframe tbody tr th {\n",
       "        vertical-align: top;\n",
       "    }\n",
       "\n",
       "    .dataframe thead th {\n",
       "        text-align: right;\n",
       "    }\n",
       "</style>\n",
       "<table border=\"1\" class=\"dataframe\">\n",
       "  <thead>\n",
       "    <tr style=\"text-align: right;\">\n",
       "      <th></th>\n",
       "      <th>UGDS_WHITE</th>\n",
       "      <th>UGDS_BLACK</th>\n",
       "      <th>UGDS_HISP</th>\n",
       "      <th>UGDS_ASIAN</th>\n",
       "      <th>UGDS_AIAN</th>\n",
       "      <th>UGDS_NHPI</th>\n",
       "      <th>UGDS_2MOR</th>\n",
       "      <th>UGDS_NRA</th>\n",
       "      <th>UGDS_UNKN</th>\n",
       "    </tr>\n",
       "    <tr>\n",
       "      <th>INSTNM</th>\n",
       "      <th></th>\n",
       "      <th></th>\n",
       "      <th></th>\n",
       "      <th></th>\n",
       "      <th></th>\n",
       "      <th></th>\n",
       "      <th></th>\n",
       "      <th></th>\n",
       "      <th></th>\n",
       "    </tr>\n",
       "  </thead>\n",
       "  <tbody>\n",
       "    <tr>\n",
       "      <th>Alabama A &amp; M University</th>\n",
       "      <td>0.0333</td>\n",
       "      <td>0.9353</td>\n",
       "      <td>0.0055</td>\n",
       "      <td>0.0019</td>\n",
       "      <td>0.0024</td>\n",
       "      <td>0.0019</td>\n",
       "      <td>0.0000</td>\n",
       "      <td>0.0059</td>\n",
       "      <td>0.0138</td>\n",
       "    </tr>\n",
       "    <tr>\n",
       "      <th>University of Alabama at Birmingham</th>\n",
       "      <td>0.5922</td>\n",
       "      <td>0.2600</td>\n",
       "      <td>0.0283</td>\n",
       "      <td>0.0518</td>\n",
       "      <td>0.0022</td>\n",
       "      <td>0.0007</td>\n",
       "      <td>0.0368</td>\n",
       "      <td>0.0179</td>\n",
       "      <td>0.0100</td>\n",
       "    </tr>\n",
       "    <tr>\n",
       "      <th>Amridge University</th>\n",
       "      <td>0.2990</td>\n",
       "      <td>0.4192</td>\n",
       "      <td>0.0069</td>\n",
       "      <td>0.0034</td>\n",
       "      <td>0.0000</td>\n",
       "      <td>0.0000</td>\n",
       "      <td>0.0000</td>\n",
       "      <td>0.0000</td>\n",
       "      <td>0.2715</td>\n",
       "    </tr>\n",
       "    <tr>\n",
       "      <th>University of Alabama in Huntsville</th>\n",
       "      <td>0.6988</td>\n",
       "      <td>0.1255</td>\n",
       "      <td>0.0382</td>\n",
       "      <td>0.0376</td>\n",
       "      <td>0.0143</td>\n",
       "      <td>0.0002</td>\n",
       "      <td>0.0172</td>\n",
       "      <td>0.0332</td>\n",
       "      <td>0.0350</td>\n",
       "    </tr>\n",
       "    <tr>\n",
       "      <th>Alabama State University</th>\n",
       "      <td>0.0158</td>\n",
       "      <td>0.9208</td>\n",
       "      <td>0.0121</td>\n",
       "      <td>0.0019</td>\n",
       "      <td>0.0010</td>\n",
       "      <td>0.0006</td>\n",
       "      <td>0.0098</td>\n",
       "      <td>0.0243</td>\n",
       "      <td>0.0137</td>\n",
       "    </tr>\n",
       "  </tbody>\n",
       "</table>\n",
       "</div>"
      ],
      "text/plain": [
       "                                     UGDS_WHITE  UGDS_BLACK  UGDS_HISP  \\\n",
       "INSTNM                                                                   \n",
       "Alabama A & M University                 0.0333      0.9353     0.0055   \n",
       "University of Alabama at Birmingham      0.5922      0.2600     0.0283   \n",
       "Amridge University                       0.2990      0.4192     0.0069   \n",
       "University of Alabama in Huntsville      0.6988      0.1255     0.0382   \n",
       "Alabama State University                 0.0158      0.9208     0.0121   \n",
       "\n",
       "                                     UGDS_ASIAN  UGDS_AIAN  UGDS_NHPI  \\\n",
       "INSTNM                                                                  \n",
       "Alabama A & M University                 0.0019     0.0024     0.0019   \n",
       "University of Alabama at Birmingham      0.0518     0.0022     0.0007   \n",
       "Amridge University                       0.0034     0.0000     0.0000   \n",
       "University of Alabama in Huntsville      0.0376     0.0143     0.0002   \n",
       "Alabama State University                 0.0019     0.0010     0.0006   \n",
       "\n",
       "                                     UGDS_2MOR  UGDS_NRA  UGDS_UNKN  \n",
       "INSTNM                                                               \n",
       "Alabama A & M University                0.0000    0.0059     0.0138  \n",
       "University of Alabama at Birmingham     0.0368    0.0179     0.0100  \n",
       "Amridge University                      0.0000    0.0000     0.2715  \n",
       "University of Alabama in Huntsville     0.0172    0.0332     0.0350  \n",
       "Alabama State University                0.0098    0.0243     0.0137  "
      ]
     },
     "execution_count": 59,
     "metadata": {},
     "output_type": "execute_result"
    }
   ],
   "source": [
    "college_ugds.head()"
   ]
  },
  {
   "cell_type": "code",
   "execution_count": 60,
   "id": "olive-ministry",
   "metadata": {},
   "outputs": [
    {
     "data": {
      "text/plain": [
       "UGDS_WHITE    6874\n",
       "UGDS_BLACK    6874\n",
       "UGDS_HISP     6874\n",
       "UGDS_ASIAN    6874\n",
       "UGDS_AIAN     6874\n",
       "UGDS_NHPI     6874\n",
       "UGDS_2MOR     6874\n",
       "UGDS_NRA      6874\n",
       "UGDS_UNKN     6874\n",
       "dtype: int64"
      ]
     },
     "execution_count": 60,
     "metadata": {},
     "output_type": "execute_result"
    }
   ],
   "source": [
    "college_ugds.count()"
   ]
  },
  {
   "cell_type": "code",
   "execution_count": 62,
   "id": "voluntary-insert",
   "metadata": {},
   "outputs": [
    {
     "data": {
      "text/plain": [
       "INSTNM\n",
       "Alabama A & M University               9\n",
       "University of Alabama at Birmingham    9\n",
       "Amridge University                     9\n",
       "University of Alabama in Huntsville    9\n",
       "Alabama State University               9\n",
       "dtype: int64"
      ]
     },
     "execution_count": 62,
     "metadata": {},
     "output_type": "execute_result"
    }
   ],
   "source": [
    "college_ugds.count(axis='columns').head()"
   ]
  },
  {
   "cell_type": "code",
   "execution_count": 63,
   "id": "forbidden-suicide",
   "metadata": {},
   "outputs": [
    {
     "data": {
      "text/plain": [
       "INSTNM\n",
       "Alabama A & M University               1.0000\n",
       "University of Alabama at Birmingham    0.9999\n",
       "Amridge University                     1.0000\n",
       "University of Alabama in Huntsville    1.0000\n",
       "Alabama State University               1.0000\n",
       "dtype: float64"
      ]
     },
     "execution_count": 63,
     "metadata": {},
     "output_type": "execute_result"
    }
   ],
   "source": [
    "college_ugds.sum(axis='columns').head()"
   ]
  },
  {
   "cell_type": "code",
   "execution_count": 64,
   "id": "focused-processing",
   "metadata": {},
   "outputs": [
    {
     "data": {
      "text/plain": [
       "UGDS_WHITE    0.55570\n",
       "UGDS_BLACK    0.10005\n",
       "UGDS_HISP     0.07140\n",
       "UGDS_ASIAN    0.01290\n",
       "UGDS_AIAN     0.00260\n",
       "UGDS_NHPI     0.00000\n",
       "UGDS_2MOR     0.01750\n",
       "UGDS_NRA      0.00000\n",
       "UGDS_UNKN     0.01430\n",
       "dtype: float64"
      ]
     },
     "execution_count": 64,
     "metadata": {},
     "output_type": "execute_result"
    }
   ],
   "source": [
    "college_ugds.median(axis=\"index\")"
   ]
  },
  {
   "cell_type": "code",
   "execution_count": 65,
   "id": "pediatric-trinidad",
   "metadata": {},
   "outputs": [],
   "source": [
    "college_ugds_cumsum = college_ugds.cumsum(axis=1)"
   ]
  },
  {
   "cell_type": "code",
   "execution_count": 66,
   "id": "limited-modern",
   "metadata": {},
   "outputs": [
    {
     "data": {
      "text/html": [
       "<div>\n",
       "<style scoped>\n",
       "    .dataframe tbody tr th:only-of-type {\n",
       "        vertical-align: middle;\n",
       "    }\n",
       "\n",
       "    .dataframe tbody tr th {\n",
       "        vertical-align: top;\n",
       "    }\n",
       "\n",
       "    .dataframe thead th {\n",
       "        text-align: right;\n",
       "    }\n",
       "</style>\n",
       "<table border=\"1\" class=\"dataframe\">\n",
       "  <thead>\n",
       "    <tr style=\"text-align: right;\">\n",
       "      <th></th>\n",
       "      <th>UGDS_WHITE</th>\n",
       "      <th>UGDS_BLACK</th>\n",
       "      <th>UGDS_HISP</th>\n",
       "      <th>UGDS_ASIAN</th>\n",
       "      <th>UGDS_AIAN</th>\n",
       "      <th>UGDS_NHPI</th>\n",
       "      <th>UGDS_2MOR</th>\n",
       "      <th>UGDS_NRA</th>\n",
       "      <th>UGDS_UNKN</th>\n",
       "    </tr>\n",
       "    <tr>\n",
       "      <th>INSTNM</th>\n",
       "      <th></th>\n",
       "      <th></th>\n",
       "      <th></th>\n",
       "      <th></th>\n",
       "      <th></th>\n",
       "      <th></th>\n",
       "      <th></th>\n",
       "      <th></th>\n",
       "      <th></th>\n",
       "    </tr>\n",
       "  </thead>\n",
       "  <tbody>\n",
       "    <tr>\n",
       "      <th>Alabama A &amp; M University</th>\n",
       "      <td>0.0333</td>\n",
       "      <td>0.9686</td>\n",
       "      <td>0.9741</td>\n",
       "      <td>0.9760</td>\n",
       "      <td>0.9784</td>\n",
       "      <td>0.9803</td>\n",
       "      <td>0.9803</td>\n",
       "      <td>0.9862</td>\n",
       "      <td>1.0000</td>\n",
       "    </tr>\n",
       "    <tr>\n",
       "      <th>University of Alabama at Birmingham</th>\n",
       "      <td>0.5922</td>\n",
       "      <td>0.8522</td>\n",
       "      <td>0.8805</td>\n",
       "      <td>0.9323</td>\n",
       "      <td>0.9345</td>\n",
       "      <td>0.9352</td>\n",
       "      <td>0.9720</td>\n",
       "      <td>0.9899</td>\n",
       "      <td>0.9999</td>\n",
       "    </tr>\n",
       "    <tr>\n",
       "      <th>Amridge University</th>\n",
       "      <td>0.2990</td>\n",
       "      <td>0.7182</td>\n",
       "      <td>0.7251</td>\n",
       "      <td>0.7285</td>\n",
       "      <td>0.7285</td>\n",
       "      <td>0.7285</td>\n",
       "      <td>0.7285</td>\n",
       "      <td>0.7285</td>\n",
       "      <td>1.0000</td>\n",
       "    </tr>\n",
       "    <tr>\n",
       "      <th>University of Alabama in Huntsville</th>\n",
       "      <td>0.6988</td>\n",
       "      <td>0.8243</td>\n",
       "      <td>0.8625</td>\n",
       "      <td>0.9001</td>\n",
       "      <td>0.9144</td>\n",
       "      <td>0.9146</td>\n",
       "      <td>0.9318</td>\n",
       "      <td>0.9650</td>\n",
       "      <td>1.0000</td>\n",
       "    </tr>\n",
       "    <tr>\n",
       "      <th>Alabama State University</th>\n",
       "      <td>0.0158</td>\n",
       "      <td>0.9366</td>\n",
       "      <td>0.9487</td>\n",
       "      <td>0.9506</td>\n",
       "      <td>0.9516</td>\n",
       "      <td>0.9522</td>\n",
       "      <td>0.9620</td>\n",
       "      <td>0.9863</td>\n",
       "      <td>1.0000</td>\n",
       "    </tr>\n",
       "  </tbody>\n",
       "</table>\n",
       "</div>"
      ],
      "text/plain": [
       "                                     UGDS_WHITE  UGDS_BLACK  UGDS_HISP  \\\n",
       "INSTNM                                                                   \n",
       "Alabama A & M University                 0.0333      0.9686     0.9741   \n",
       "University of Alabama at Birmingham      0.5922      0.8522     0.8805   \n",
       "Amridge University                       0.2990      0.7182     0.7251   \n",
       "University of Alabama in Huntsville      0.6988      0.8243     0.8625   \n",
       "Alabama State University                 0.0158      0.9366     0.9487   \n",
       "\n",
       "                                     UGDS_ASIAN  UGDS_AIAN  UGDS_NHPI  \\\n",
       "INSTNM                                                                  \n",
       "Alabama A & M University                 0.9760     0.9784     0.9803   \n",
       "University of Alabama at Birmingham      0.9323     0.9345     0.9352   \n",
       "Amridge University                       0.7285     0.7285     0.7285   \n",
       "University of Alabama in Huntsville      0.9001     0.9144     0.9146   \n",
       "Alabama State University                 0.9506     0.9516     0.9522   \n",
       "\n",
       "                                     UGDS_2MOR  UGDS_NRA  UGDS_UNKN  \n",
       "INSTNM                                                               \n",
       "Alabama A & M University                0.9803    0.9862     1.0000  \n",
       "University of Alabama at Birmingham     0.9720    0.9899     0.9999  \n",
       "Amridge University                      0.7285    0.7285     1.0000  \n",
       "University of Alabama in Huntsville     0.9318    0.9650     1.0000  \n",
       "Alabama State University                0.9620    0.9863     1.0000  "
      ]
     },
     "execution_count": 66,
     "metadata": {},
     "output_type": "execute_result"
    }
   ],
   "source": [
    "college_ugds_cumsum.head()"
   ]
  },
  {
   "cell_type": "code",
   "execution_count": 69,
   "id": "excessive-legislature",
   "metadata": {},
   "outputs": [
    {
     "data": {
      "text/html": [
       "<div>\n",
       "<style scoped>\n",
       "    .dataframe tbody tr th:only-of-type {\n",
       "        vertical-align: middle;\n",
       "    }\n",
       "\n",
       "    .dataframe tbody tr th {\n",
       "        vertical-align: top;\n",
       "    }\n",
       "\n",
       "    .dataframe thead th {\n",
       "        text-align: right;\n",
       "    }\n",
       "</style>\n",
       "<table border=\"1\" class=\"dataframe\">\n",
       "  <thead>\n",
       "    <tr style=\"text-align: right;\">\n",
       "      <th></th>\n",
       "      <th>Diversity Index</th>\n",
       "    </tr>\n",
       "    <tr>\n",
       "      <th>School</th>\n",
       "      <th></th>\n",
       "    </tr>\n",
       "  </thead>\n",
       "  <tbody>\n",
       "    <tr>\n",
       "      <th>Rutgers University--Newark  Newark, NJ</th>\n",
       "      <td>0.76</td>\n",
       "    </tr>\n",
       "    <tr>\n",
       "      <th>Andrews University  Berrien Springs, MI</th>\n",
       "      <td>0.74</td>\n",
       "    </tr>\n",
       "    <tr>\n",
       "      <th>Stanford University  Stanford, CA</th>\n",
       "      <td>0.74</td>\n",
       "    </tr>\n",
       "    <tr>\n",
       "      <th>University of Houston  Houston, TX</th>\n",
       "      <td>0.74</td>\n",
       "    </tr>\n",
       "    <tr>\n",
       "      <th>University of Nevada--Las Vegas  Las Vegas, NV</th>\n",
       "      <td>0.74</td>\n",
       "    </tr>\n",
       "    <tr>\n",
       "      <th>University of San Francisco  San Francisco, CA</th>\n",
       "      <td>0.74</td>\n",
       "    </tr>\n",
       "    <tr>\n",
       "      <th>San Francisco State University  San Francisco, CA</th>\n",
       "      <td>0.73</td>\n",
       "    </tr>\n",
       "    <tr>\n",
       "      <th>University of Illinois--Chicago  Chicago, IL</th>\n",
       "      <td>0.73</td>\n",
       "    </tr>\n",
       "    <tr>\n",
       "      <th>New Jersey Institute of Technology  Newark, NJ</th>\n",
       "      <td>0.72</td>\n",
       "    </tr>\n",
       "    <tr>\n",
       "      <th>Texas Woman's University  Denton, TX</th>\n",
       "      <td>0.72</td>\n",
       "    </tr>\n",
       "  </tbody>\n",
       "</table>\n",
       "</div>"
      ],
      "text/plain": [
       "                                                   Diversity Index\n",
       "School                                                            \n",
       "Rutgers University--Newark  Newark, NJ                        0.76\n",
       "Andrews University  Berrien Springs, MI                       0.74\n",
       "Stanford University  Stanford, CA                             0.74\n",
       "University of Houston  Houston, TX                            0.74\n",
       "University of Nevada--Las Vegas  Las Vegas, NV                0.74\n",
       "University of San Francisco  San Francisco, CA                0.74\n",
       "San Francisco State University  San Francisco, CA             0.73\n",
       "University of Illinois--Chicago  Chicago, IL                  0.73\n",
       "New Jersey Institute of Technology  Newark, NJ                0.72\n",
       "Texas Woman's University  Denton, TX                          0.72"
      ]
     },
     "execution_count": 69,
     "metadata": {},
     "output_type": "execute_result"
    }
   ],
   "source": [
    "pd.read_csv(\"college_diversity.csv\", index_col=\"School\")"
   ]
  },
  {
   "cell_type": "code",
   "execution_count": 71,
   "id": "popular-cinema",
   "metadata": {},
   "outputs": [],
   "source": [
    "college = pd.read_csv(\"college.csv\", index_col=\"INSTNM\")"
   ]
  },
  {
   "cell_type": "code",
   "execution_count": 72,
   "id": "worse-visit",
   "metadata": {},
   "outputs": [],
   "source": [
    "college_ugds = college.filter(like=\"UGDS_\")"
   ]
  },
  {
   "cell_type": "code",
   "execution_count": 75,
   "id": "aware-mandate",
   "metadata": {},
   "outputs": [
    {
     "data": {
      "text/plain": [
       "INSTNM\n",
       "Excel Learning Center-San Antonio South              9\n",
       "Western State College of Law at Argosy University    9\n",
       "Albany Law School                                    9\n",
       "Albany Medical College                               9\n",
       "A T Still University of Health Sciences              9\n",
       "dtype: int64"
      ]
     },
     "execution_count": 75,
     "metadata": {},
     "output_type": "execute_result"
    }
   ],
   "source": [
    "(\n",
    "    college_ugds.isnull()\n",
    "    .sum(axis=\"columns\")\n",
    "    .sort_values(ascending=False)\n",
    "    .head()\n",
    ")"
   ]
  },
  {
   "cell_type": "code",
   "execution_count": 76,
   "id": "opening-model",
   "metadata": {},
   "outputs": [],
   "source": [
    "college_ugds = college_ugds.dropna(how=\"all\")"
   ]
  },
  {
   "cell_type": "code",
   "execution_count": 77,
   "id": "equivalent-agreement",
   "metadata": {},
   "outputs": [
    {
     "data": {
      "text/plain": [
       "UGDS_WHITE    0\n",
       "UGDS_BLACK    0\n",
       "UGDS_HISP     0\n",
       "UGDS_ASIAN    0\n",
       "UGDS_AIAN     0\n",
       "UGDS_NHPI     0\n",
       "UGDS_2MOR     0\n",
       "UGDS_NRA      0\n",
       "UGDS_UNKN     0\n",
       "dtype: int64"
      ]
     },
     "execution_count": 77,
     "metadata": {},
     "output_type": "execute_result"
    }
   ],
   "source": [
    "college_ugds.isnull().sum()"
   ]
  },
  {
   "cell_type": "code",
   "execution_count": 78,
   "id": "automated-fraction",
   "metadata": {},
   "outputs": [
    {
     "data": {
      "text/html": [
       "<div>\n",
       "<style scoped>\n",
       "    .dataframe tbody tr th:only-of-type {\n",
       "        vertical-align: middle;\n",
       "    }\n",
       "\n",
       "    .dataframe tbody tr th {\n",
       "        vertical-align: top;\n",
       "    }\n",
       "\n",
       "    .dataframe thead th {\n",
       "        text-align: right;\n",
       "    }\n",
       "</style>\n",
       "<table border=\"1\" class=\"dataframe\">\n",
       "  <thead>\n",
       "    <tr style=\"text-align: right;\">\n",
       "      <th></th>\n",
       "      <th>UGDS_WHITE</th>\n",
       "      <th>UGDS_BLACK</th>\n",
       "      <th>UGDS_HISP</th>\n",
       "      <th>UGDS_ASIAN</th>\n",
       "      <th>UGDS_AIAN</th>\n",
       "      <th>UGDS_NHPI</th>\n",
       "      <th>UGDS_2MOR</th>\n",
       "      <th>UGDS_NRA</th>\n",
       "      <th>UGDS_UNKN</th>\n",
       "    </tr>\n",
       "    <tr>\n",
       "      <th>INSTNM</th>\n",
       "      <th></th>\n",
       "      <th></th>\n",
       "      <th></th>\n",
       "      <th></th>\n",
       "      <th></th>\n",
       "      <th></th>\n",
       "      <th></th>\n",
       "      <th></th>\n",
       "      <th></th>\n",
       "    </tr>\n",
       "  </thead>\n",
       "  <tbody>\n",
       "    <tr>\n",
       "      <th>Alabama A &amp; M University</th>\n",
       "      <td>False</td>\n",
       "      <td>True</td>\n",
       "      <td>False</td>\n",
       "      <td>False</td>\n",
       "      <td>False</td>\n",
       "      <td>False</td>\n",
       "      <td>False</td>\n",
       "      <td>False</td>\n",
       "      <td>False</td>\n",
       "    </tr>\n",
       "    <tr>\n",
       "      <th>University of Alabama at Birmingham</th>\n",
       "      <td>True</td>\n",
       "      <td>True</td>\n",
       "      <td>False</td>\n",
       "      <td>False</td>\n",
       "      <td>False</td>\n",
       "      <td>False</td>\n",
       "      <td>False</td>\n",
       "      <td>False</td>\n",
       "      <td>False</td>\n",
       "    </tr>\n",
       "    <tr>\n",
       "      <th>Amridge University</th>\n",
       "      <td>True</td>\n",
       "      <td>True</td>\n",
       "      <td>False</td>\n",
       "      <td>False</td>\n",
       "      <td>False</td>\n",
       "      <td>False</td>\n",
       "      <td>False</td>\n",
       "      <td>False</td>\n",
       "      <td>True</td>\n",
       "    </tr>\n",
       "    <tr>\n",
       "      <th>University of Alabama in Huntsville</th>\n",
       "      <td>True</td>\n",
       "      <td>False</td>\n",
       "      <td>False</td>\n",
       "      <td>False</td>\n",
       "      <td>False</td>\n",
       "      <td>False</td>\n",
       "      <td>False</td>\n",
       "      <td>False</td>\n",
       "      <td>False</td>\n",
       "    </tr>\n",
       "    <tr>\n",
       "      <th>Alabama State University</th>\n",
       "      <td>False</td>\n",
       "      <td>True</td>\n",
       "      <td>False</td>\n",
       "      <td>False</td>\n",
       "      <td>False</td>\n",
       "      <td>False</td>\n",
       "      <td>False</td>\n",
       "      <td>False</td>\n",
       "      <td>False</td>\n",
       "    </tr>\n",
       "    <tr>\n",
       "      <th>...</th>\n",
       "      <td>...</td>\n",
       "      <td>...</td>\n",
       "      <td>...</td>\n",
       "      <td>...</td>\n",
       "      <td>...</td>\n",
       "      <td>...</td>\n",
       "      <td>...</td>\n",
       "      <td>...</td>\n",
       "      <td>...</td>\n",
       "    </tr>\n",
       "    <tr>\n",
       "      <th>Hollywood Institute of Beauty Careers-West Palm Beach</th>\n",
       "      <td>True</td>\n",
       "      <td>True</td>\n",
       "      <td>True</td>\n",
       "      <td>False</td>\n",
       "      <td>False</td>\n",
       "      <td>False</td>\n",
       "      <td>False</td>\n",
       "      <td>False</td>\n",
       "      <td>False</td>\n",
       "    </tr>\n",
       "    <tr>\n",
       "      <th>Hollywood Institute of Beauty Careers-Casselberry</th>\n",
       "      <td>False</td>\n",
       "      <td>True</td>\n",
       "      <td>True</td>\n",
       "      <td>False</td>\n",
       "      <td>False</td>\n",
       "      <td>False</td>\n",
       "      <td>False</td>\n",
       "      <td>False</td>\n",
       "      <td>False</td>\n",
       "    </tr>\n",
       "    <tr>\n",
       "      <th>Coachella Valley Beauty College-Beaumont</th>\n",
       "      <td>True</td>\n",
       "      <td>False</td>\n",
       "      <td>True</td>\n",
       "      <td>False</td>\n",
       "      <td>False</td>\n",
       "      <td>False</td>\n",
       "      <td>False</td>\n",
       "      <td>False</td>\n",
       "      <td>False</td>\n",
       "    </tr>\n",
       "    <tr>\n",
       "      <th>Dewey University-Mayaguez</th>\n",
       "      <td>False</td>\n",
       "      <td>False</td>\n",
       "      <td>True</td>\n",
       "      <td>False</td>\n",
       "      <td>False</td>\n",
       "      <td>False</td>\n",
       "      <td>False</td>\n",
       "      <td>False</td>\n",
       "      <td>False</td>\n",
       "    </tr>\n",
       "    <tr>\n",
       "      <th>Coastal Pines Technical College</th>\n",
       "      <td>True</td>\n",
       "      <td>True</td>\n",
       "      <td>False</td>\n",
       "      <td>False</td>\n",
       "      <td>False</td>\n",
       "      <td>False</td>\n",
       "      <td>False</td>\n",
       "      <td>False</td>\n",
       "      <td>False</td>\n",
       "    </tr>\n",
       "  </tbody>\n",
       "</table>\n",
       "<p>6874 rows × 9 columns</p>\n",
       "</div>"
      ],
      "text/plain": [
       "                                                    UGDS_WHITE  UGDS_BLACK  \\\n",
       "INSTNM                                                                       \n",
       "Alabama A & M University                                 False        True   \n",
       "University of Alabama at Birmingham                       True        True   \n",
       "Amridge University                                        True        True   \n",
       "University of Alabama in Huntsville                       True       False   \n",
       "Alabama State University                                 False        True   \n",
       "...                                                        ...         ...   \n",
       "Hollywood Institute of Beauty Careers-West Palm...        True        True   \n",
       "Hollywood Institute of Beauty Careers-Casselberry        False        True   \n",
       "Coachella Valley Beauty College-Beaumont                  True       False   \n",
       "Dewey University-Mayaguez                                False       False   \n",
       "Coastal Pines Technical College                           True        True   \n",
       "\n",
       "                                                    UGDS_HISP  UGDS_ASIAN  \\\n",
       "INSTNM                                                                      \n",
       "Alabama A & M University                                False       False   \n",
       "University of Alabama at Birmingham                     False       False   \n",
       "Amridge University                                      False       False   \n",
       "University of Alabama in Huntsville                     False       False   \n",
       "Alabama State University                                False       False   \n",
       "...                                                       ...         ...   \n",
       "Hollywood Institute of Beauty Careers-West Palm...       True       False   \n",
       "Hollywood Institute of Beauty Careers-Casselberry        True       False   \n",
       "Coachella Valley Beauty College-Beaumont                 True       False   \n",
       "Dewey University-Mayaguez                                True       False   \n",
       "Coastal Pines Technical College                         False       False   \n",
       "\n",
       "                                                    UGDS_AIAN  UGDS_NHPI  \\\n",
       "INSTNM                                                                     \n",
       "Alabama A & M University                                False      False   \n",
       "University of Alabama at Birmingham                     False      False   \n",
       "Amridge University                                      False      False   \n",
       "University of Alabama in Huntsville                     False      False   \n",
       "Alabama State University                                False      False   \n",
       "...                                                       ...        ...   \n",
       "Hollywood Institute of Beauty Careers-West Palm...      False      False   \n",
       "Hollywood Institute of Beauty Careers-Casselberry       False      False   \n",
       "Coachella Valley Beauty College-Beaumont                False      False   \n",
       "Dewey University-Mayaguez                               False      False   \n",
       "Coastal Pines Technical College                         False      False   \n",
       "\n",
       "                                                    UGDS_2MOR  UGDS_NRA  \\\n",
       "INSTNM                                                                    \n",
       "Alabama A & M University                                False     False   \n",
       "University of Alabama at Birmingham                     False     False   \n",
       "Amridge University                                      False     False   \n",
       "University of Alabama in Huntsville                     False     False   \n",
       "Alabama State University                                False     False   \n",
       "...                                                       ...       ...   \n",
       "Hollywood Institute of Beauty Careers-West Palm...      False     False   \n",
       "Hollywood Institute of Beauty Careers-Casselberry       False     False   \n",
       "Coachella Valley Beauty College-Beaumont                False     False   \n",
       "Dewey University-Mayaguez                               False     False   \n",
       "Coastal Pines Technical College                         False     False   \n",
       "\n",
       "                                                    UGDS_UNKN  \n",
       "INSTNM                                                         \n",
       "Alabama A & M University                                False  \n",
       "University of Alabama at Birmingham                     False  \n",
       "Amridge University                                       True  \n",
       "University of Alabama in Huntsville                     False  \n",
       "Alabama State University                                False  \n",
       "...                                                       ...  \n",
       "Hollywood Institute of Beauty Careers-West Palm...      False  \n",
       "Hollywood Institute of Beauty Careers-Casselberry       False  \n",
       "Coachella Valley Beauty College-Beaumont                False  \n",
       "Dewey University-Mayaguez                               False  \n",
       "Coastal Pines Technical College                         False  \n",
       "\n",
       "[6874 rows x 9 columns]"
      ]
     },
     "execution_count": 78,
     "metadata": {},
     "output_type": "execute_result"
    }
   ],
   "source": [
    "college_ugds.ge(0.15)"
   ]
  },
  {
   "cell_type": "code",
   "execution_count": 86,
   "id": "adult-trustee",
   "metadata": {},
   "outputs": [],
   "source": [
    "diversity_metric = college_ugds.ge(0.15).sum(axis=\"columns\")"
   ]
  },
  {
   "cell_type": "code",
   "execution_count": 87,
   "id": "incomplete-truth",
   "metadata": {},
   "outputs": [
    {
     "data": {
      "text/plain": [
       "INSTNM\n",
       "Alabama A & M University               1\n",
       "University of Alabama at Birmingham    2\n",
       "Amridge University                     3\n",
       "University of Alabama in Huntsville    1\n",
       "Alabama State University               1\n",
       "dtype: int64"
      ]
     },
     "execution_count": 87,
     "metadata": {},
     "output_type": "execute_result"
    }
   ],
   "source": [
    "diversity_metric.head()"
   ]
  },
  {
   "cell_type": "code",
   "execution_count": 88,
   "id": "threaded-vancouver",
   "metadata": {},
   "outputs": [
    {
     "data": {
      "text/plain": [
       "1    3042\n",
       "2    2884\n",
       "3     876\n",
       "4      63\n",
       "0       7\n",
       "5       2\n",
       "dtype: int64"
      ]
     },
     "execution_count": 88,
     "metadata": {},
     "output_type": "execute_result"
    }
   ],
   "source": [
    "diversity_metric.value_counts()"
   ]
  },
  {
   "cell_type": "code",
   "execution_count": 92,
   "id": "virgin-annotation",
   "metadata": {},
   "outputs": [
    {
     "data": {
      "text/plain": [
       "INSTNM\n",
       "Central Texas Beauty College-Temple                               5\n",
       "Regency Beauty Institute-Austin                                   5\n",
       "Westwood College-O'Hare Airport                                   4\n",
       "Regency Beauty Institute-Pasadena                                 4\n",
       "Soma Institute-The National School of Clinical Massage Therapy    4\n",
       "dtype: int64"
      ]
     },
     "execution_count": 92,
     "metadata": {},
     "output_type": "execute_result"
    }
   ],
   "source": [
    "diversity_metric.sort_values(ascending=False).head()"
   ]
  },
  {
   "cell_type": "code",
   "execution_count": 93,
   "id": "assumed-coaching",
   "metadata": {},
   "outputs": [
    {
     "data": {
      "text/html": [
       "<div>\n",
       "<style scoped>\n",
       "    .dataframe tbody tr th:only-of-type {\n",
       "        vertical-align: middle;\n",
       "    }\n",
       "\n",
       "    .dataframe tbody tr th {\n",
       "        vertical-align: top;\n",
       "    }\n",
       "\n",
       "    .dataframe thead th {\n",
       "        text-align: right;\n",
       "    }\n",
       "</style>\n",
       "<table border=\"1\" class=\"dataframe\">\n",
       "  <thead>\n",
       "    <tr style=\"text-align: right;\">\n",
       "      <th></th>\n",
       "      <th>UGDS_WHITE</th>\n",
       "      <th>UGDS_BLACK</th>\n",
       "      <th>UGDS_HISP</th>\n",
       "      <th>UGDS_ASIAN</th>\n",
       "      <th>UGDS_AIAN</th>\n",
       "      <th>UGDS_NHPI</th>\n",
       "      <th>UGDS_2MOR</th>\n",
       "      <th>UGDS_NRA</th>\n",
       "      <th>UGDS_UNKN</th>\n",
       "    </tr>\n",
       "    <tr>\n",
       "      <th>INSTNM</th>\n",
       "      <th></th>\n",
       "      <th></th>\n",
       "      <th></th>\n",
       "      <th></th>\n",
       "      <th></th>\n",
       "      <th></th>\n",
       "      <th></th>\n",
       "      <th></th>\n",
       "      <th></th>\n",
       "    </tr>\n",
       "  </thead>\n",
       "  <tbody>\n",
       "    <tr>\n",
       "      <th>Regency Beauty Institute-Austin</th>\n",
       "      <td>0.1867</td>\n",
       "      <td>0.2133</td>\n",
       "      <td>0.1600</td>\n",
       "      <td>0.0000</td>\n",
       "      <td>0.0</td>\n",
       "      <td>0.0</td>\n",
       "      <td>0.1733</td>\n",
       "      <td>0.0</td>\n",
       "      <td>0.2667</td>\n",
       "    </tr>\n",
       "    <tr>\n",
       "      <th>Central Texas Beauty College-Temple</th>\n",
       "      <td>0.1616</td>\n",
       "      <td>0.2323</td>\n",
       "      <td>0.2626</td>\n",
       "      <td>0.0202</td>\n",
       "      <td>0.0</td>\n",
       "      <td>0.0</td>\n",
       "      <td>0.1717</td>\n",
       "      <td>0.0</td>\n",
       "      <td>0.1515</td>\n",
       "    </tr>\n",
       "  </tbody>\n",
       "</table>\n",
       "</div>"
      ],
      "text/plain": [
       "                                     UGDS_WHITE  UGDS_BLACK  UGDS_HISP  \\\n",
       "INSTNM                                                                   \n",
       "Regency Beauty Institute-Austin          0.1867      0.2133     0.1600   \n",
       "Central Texas Beauty College-Temple      0.1616      0.2323     0.2626   \n",
       "\n",
       "                                     UGDS_ASIAN  UGDS_AIAN  UGDS_NHPI  \\\n",
       "INSTNM                                                                  \n",
       "Regency Beauty Institute-Austin          0.0000        0.0        0.0   \n",
       "Central Texas Beauty College-Temple      0.0202        0.0        0.0   \n",
       "\n",
       "                                     UGDS_2MOR  UGDS_NRA  UGDS_UNKN  \n",
       "INSTNM                                                               \n",
       "Regency Beauty Institute-Austin         0.1733       0.0     0.2667  \n",
       "Central Texas Beauty College-Temple     0.1717       0.0     0.1515  "
      ]
     },
     "execution_count": 93,
     "metadata": {},
     "output_type": "execute_result"
    }
   ],
   "source": [
    "college_ugds.loc[\n",
    "    [\n",
    "        \"Regency Beauty Institute-Austin\",\n",
    "        \"Central Texas Beauty College-Temple\"\n",
    "    ]\n",
    "]"
   ]
  },
  {
   "cell_type": "code",
   "execution_count": 94,
   "id": "entire-democrat",
   "metadata": {},
   "outputs": [],
   "source": [
    "us_news_top = [\n",
    "    \"Rutgers University-Newark\",\n",
    "    \"Andrews University\",\n",
    "    \"Stanford University\",\n",
    "    \"University of Houston\",\n",
    "    \"University of Nevada-Las Vegas\"\n",
    "]"
   ]
  },
  {
   "cell_type": "code",
   "execution_count": 95,
   "id": "liked-french",
   "metadata": {},
   "outputs": [
    {
     "data": {
      "text/plain": [
       "INSTNM\n",
       "Rutgers University-Newark         4\n",
       "Andrews University                3\n",
       "Stanford University               3\n",
       "University of Houston             3\n",
       "University of Nevada-Las Vegas    3\n",
       "dtype: int64"
      ]
     },
     "execution_count": 95,
     "metadata": {},
     "output_type": "execute_result"
    }
   ],
   "source": [
    "diversity_metric.loc[us_news_top]"
   ]
  },
  {
   "cell_type": "code",
   "execution_count": 96,
   "id": "indirect-diploma",
   "metadata": {},
   "outputs": [
    {
     "data": {
      "text/plain": [
       "INSTNM\n",
       "Caribbean University-Ponce                                        1.0\n",
       "Brighton Institute of Cosmetology                                 1.0\n",
       "Mesivta Torah Vodaath Rabbinical Seminary                         1.0\n",
       "Rabbinical College Telshe                                         1.0\n",
       "University of Puerto Rico-Mayaguez                                1.0\n",
       "Haskell Indian Nations University                                 1.0\n",
       "Lake Career and Technical Center                                  1.0\n",
       "Leon Studio One School of Hair Design & Career Training Center    1.0\n",
       "Dewey University-Hato Rey                                         1.0\n",
       "Columbia Central University-Caguas                                1.0\n",
       "dtype: float64"
      ]
     },
     "execution_count": 96,
     "metadata": {},
     "output_type": "execute_result"
    }
   ],
   "source": [
    "(\n",
    "    college_ugds.max(axis=1)\n",
    "    .sort_values(ascending=False)\n",
    "    .head(10)\n",
    ")"
   ]
  },
  {
   "cell_type": "code",
   "execution_count": 97,
   "id": "weird-income",
   "metadata": {},
   "outputs": [
    {
     "data": {
      "text/plain": [
       "True"
      ]
     },
     "execution_count": 97,
     "metadata": {},
     "output_type": "execute_result"
    }
   ],
   "source": [
    "(college_ugds > 0.01).all(axis=1).any()"
   ]
  }
 ],
 "metadata": {
  "kernelspec": {
   "display_name": "Python 3",
   "language": "python",
   "name": "python3"
  },
  "language_info": {
   "codemirror_mode": {
    "name": "ipython",
    "version": 3
   },
   "file_extension": ".py",
   "mimetype": "text/x-python",
   "name": "python",
   "nbconvert_exporter": "python",
   "pygments_lexer": "ipython3",
   "version": "3.8.5"
  }
 },
 "nbformat": 4,
 "nbformat_minor": 5
}
